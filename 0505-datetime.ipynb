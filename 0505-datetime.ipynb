{
 "cells": [
  {
   "cell_type": "code",
   "execution_count": 1,
   "metadata": {
    "collapsed": true
   },
   "outputs": [],
   "source": [
    "import datetime as dt"
   ]
  },
  {
   "cell_type": "code",
   "execution_count": 4,
   "metadata": {
    "collapsed": true
   },
   "outputs": [],
   "source": [
    "d1 = dt.date(2017, 10, 17)\n",
    "d2 = dt.date(2017, 11, 20)"
   ]
  },
  {
   "cell_type": "markdown",
   "metadata": {},
   "source": [
    "####  \n",
    "%a - 简写的星期几\n",
    "%A - 星期名称(全称)\n",
    "%y - 无世纪的年份表示(00到99)\n",
    "%Y - 年份表示(包括世纪)"
   ]
  },
  {
   "cell_type": "code",
   "execution_count": 3,
   "metadata": {
    "collapsed": false,
    "scrolled": true
   },
   "outputs": [
    {
     "name": "stdout",
     "output_type": "stream",
     "text": [
      "2017-10-17\n",
      "Tuesday, 101717\n",
      "Tue, 10-17-2017\n"
     ]
    }
   ],
   "source": [
    "print(d1)\n",
    "print(d1.strftime('%A, %m%d%y'))\n",
    "print(d1.strftime('%a, %m-%d-%Y'))"
   ]
  },
  {
   "cell_type": "code",
   "execution_count": 5,
   "metadata": {
    "collapsed": false
   },
   "outputs": [
    {
     "name": "stdout",
     "output_type": "stream",
     "text": [
      "34 days, 0:00:00\n"
     ]
    }
   ],
   "source": [
    "print(d2 - d1)"
   ]
  },
  {
   "cell_type": "code",
   "execution_count": 6,
   "metadata": {
    "collapsed": false
   },
   "outputs": [
    {
     "name": "stdout",
     "output_type": "stream",
     "text": [
      "34\n",
      "0\n"
     ]
    }
   ],
   "source": [
    "d = d2 - d1\n",
    "print(d.days)\n",
    "print(d.seconds)"
   ]
  },
  {
   "cell_type": "code",
   "execution_count": 7,
   "metadata": {
    "collapsed": false
   },
   "outputs": [
    {
     "name": "stdout",
     "output_type": "stream",
     "text": [
      "2017-11-20\n"
     ]
    }
   ],
   "source": [
    "print(dt.date.today())"
   ]
  },
  {
   "cell_type": "code",
   "execution_count": 9,
   "metadata": {
    "collapsed": true
   },
   "outputs": [],
   "source": [
    "t1 = dt.time(15, 38)\n",
    "t2 = dt.time(18)"
   ]
  },
  {
   "cell_type": "markdown",
   "metadata": {},
   "source": [
    "#### \n",
    "%H - 小时，采用24小时制(00〜23)\n",
    "%I - 小时，采用12小时制(00〜12)\n",
    "%M - 分钟\n",
    "%p - 根据给定的时间值判定上午或下午\n",
    "%S - 秒"
   ]
  },
  {
   "cell_type": "code",
   "execution_count": 10,
   "metadata": {
    "collapsed": false
   },
   "outputs": [
    {
     "name": "stdout",
     "output_type": "stream",
     "text": [
      "15:38:00\n",
      "03:38, PM\n",
      "15:38:00, PM\n"
     ]
    }
   ],
   "source": [
    "print(t1)\n",
    "print(t1.strftime('%I:%M, %p'))\n",
    "print(t1.strftime('%H:%M:%S, %p'))"
   ]
  },
  {
   "cell_type": "code",
   "execution_count": 12,
   "metadata": {
    "collapsed": false
   },
   "outputs": [
    {
     "name": "stdout",
     "output_type": "stream",
     "text": [
      "2017-11-20 17:09:44.896144\n"
     ]
    }
   ],
   "source": [
    "d1 = dt.datetime.now()\n",
    "print(d1)"
   ]
  },
  {
   "cell_type": "code",
   "execution_count": 16,
   "metadata": {
    "collapsed": false
   },
   "outputs": [
    {
     "name": "stdout",
     "output_type": "stream",
     "text": [
      "2001-02-10 00:00:00\n"
     ]
    }
   ],
   "source": [
    "print(dt.datetime.strptime('2/10/01', '%m/%d/%y'))"
   ]
  },
  {
   "cell_type": "markdown",
   "metadata": {},
   "source": [
    "#### \n",
    "%a - 简写的星期几\n",
    "%A - 星期名称(全称)\n",
    "%b - 缩写月份名\n",
    "%B - 完整的月份名称\n",
    "%c - 首选日期和时间表示\n",
    "%C - 世纪值(年份除以100，范围从00到99)\n",
    "%d - 每月第几天(01至31)\n",
    "%D -和 %m/%d/%y 一样\n",
    "%e - 月的一天(1〜31)\n",
    "%g - 类似 %G, 但没有世纪\n",
    "%G - 4位数年份对应ISO星期数(参见%V)。\n",
    "%h - 类似于 %b\n",
    "%H - 小时，采用24小时制(00〜23)\n",
    "%I - 小时，采用12小时制(00〜12)\n",
    "%j - 一年中的哪一天(001至366)\n",
    "%m - 月份(01〜12)\n",
    "%M - 分钟\n",
    "%n - 换行符\n",
    "%p - 根据给定的时间值判定上午或下午\n",
    "%r - 上午和下午(a.m 和 p.m)时间\n",
    "%R - 24小时制时间\n",
    "%S - 秒\n",
    "%t - 制表符\n",
    "%T - 当前时间，等于 %H:%M:%S\n",
    "%u - 工作日为数字(1至7)，星期一= 1。注：在Sun Solaris上 Sunday=1\n",
    "%U - 本年的周数，先从第一个星期日作为第一周的第一天\n",
    "%V - 本年度ISO 8601的周数(01到53)，其中第1周是在本年度至少4天的第一周，星期一作为一周的第一天\n",
    "%W - 本年周数，先从第一个星期一作为第一周的第一天\n",
    "%w - 一个星期中第几天，这是一个十进制数 Sunday=0\n",
    "%x - 无时间的日期表示\n",
    "%X - 无日期的首选时间表示\n",
    "%y - 无世纪的年份表示(00到99)\n",
    "%Y - 年份表示(包括世纪)\n",
    "%Z 或 %z - 时区或名称或缩写\n",
    "%% - 一个文字%字符"
   ]
  }
 ],
 "metadata": {
  "kernelspec": {
   "display_name": "Python 3",
   "language": "python",
   "name": "python3"
  },
  "language_info": {
   "codemirror_mode": {
    "name": "ipython",
    "version": 3
   },
   "file_extension": ".py",
   "mimetype": "text/x-python",
   "name": "python",
   "nbconvert_exporter": "python",
   "pygments_lexer": "ipython3",
   "version": "3.6.0"
  }
 },
 "nbformat": 4,
 "nbformat_minor": 2
}
