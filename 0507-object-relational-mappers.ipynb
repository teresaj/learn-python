{
 "cells": [
  {
   "cell_type": "markdown",
   "metadata": {},
   "source": [
    "#### Object-Relational Mapping，把关系数据库的表结构映射到对象上,SQLAlchemy是最有名的ORM框架\n",
    "数据库表是二维表，python中可以用一个list表示多行，list的每个元素是tuple，tuole很难看出表的结构，用一个class实例来表示，表的结构更明显"
   ]
  },
  {
   "cell_type": "code",
   "execution_count": 3,
   "metadata": {
    "collapsed": true
   },
   "outputs": [],
   "source": [
    "from sqlalchemy.ext.declarative import declarative_base\n",
    "from sqlalchemy import Column, Date, Float, Integer, String\n",
    "\n",
    "#创建对象的基类\n",
    "Base = declarative_base()\n",
    "\n",
    "#定义User对象\n",
    "class Order(Base):\n",
    "    #表的名字\n",
    "    __tablename__ = 'orders'\n",
    "    \n",
    "    #表的结构\n",
    "    order_id = Column(String, primary_key=True)\n",
    "    date = Column(Date)\n",
    "    symbol = Column(String)\n",
    "    quantity = Column(Integer)\n",
    "    price = Column(Float)\n",
    "    \n",
    "    def get_cost(self):\n",
    "        return self.quantity*self.price"
   ]
  },
  {
   "cell_type": "code",
   "execution_count": 4,
   "metadata": {
    "collapsed": false
   },
   "outputs": [],
   "source": [
    "import datetime\n",
    "order = Order(order_id = 'AOOO4', date = datetime.date.today(), symbol = 'MSFT', quantity=-1000, price=187.54)"
   ]
  },
  {
   "cell_type": "code",
   "execution_count": 5,
   "metadata": {
    "collapsed": false
   },
   "outputs": [
    {
     "data": {
      "text/plain": [
       "-187540.0"
      ]
     },
     "execution_count": 5,
     "metadata": {},
     "output_type": "execute_result"
    }
   ],
   "source": [
    "order.get_cost()"
   ]
  },
  {
   "cell_type": "code",
   "execution_count": 6,
   "metadata": {
    "collapsed": true
   },
   "outputs": [],
   "source": [
    "from sqlalchemy import create_engine\n",
    "from sqlalchemy.orm import sessionmaker\n",
    "\n",
    "# 初始化数据库连接：相当于 connection\n",
    "engine = create_engine(\"sqlite:///my_database.sqlite\") \n",
    "# 创建session类型，相当于 cursor\n",
    "Session = sessionmaker(bind=engine) \n",
    "session = Session()"
   ]
  },
  {
   "cell_type": "code",
   "execution_count": 7,
   "metadata": {
    "collapsed": true
   },
   "outputs": [],
   "source": [
    "session.add(order)\n",
    "session.commit()"
   ]
  },
  {
   "cell_type": "code",
   "execution_count": 8,
   "metadata": {
    "collapsed": false
   },
   "outputs": [
    {
     "name": "stdout",
     "output_type": "stream",
     "text": [
      "('A0001', '2013-12-01', 'AAPL', 1000, 203.4)\n",
      "('A0002', '2013-12-01', 'MSFT', 1500, 167.5)\n",
      "('A0003', '2013-12-02', 'GOOG', 1500, 167.5)\n",
      "('AOOO4', '2017-11-20', 'MSFT', -1000, 187.54)\n"
     ]
    }
   ],
   "source": [
    "for row in engine.execute(\"SELECT * FROM orders\"):\n",
    "    print(row)"
   ]
  },
  {
   "cell_type": "markdown",
   "metadata": {},
   "source": [
    "####  使用 filter 进行查询，返回的是 Order 对象的列表："
   ]
  },
  {
   "cell_type": "code",
   "execution_count": 9,
   "metadata": {
    "collapsed": false
   },
   "outputs": [
    {
     "name": "stdout",
     "output_type": "stream",
     "text": [
      "A0001 2013-12-01 203400.0\n"
     ]
    }
   ],
   "source": [
    "for order in session.query(Order).filter(Order.symbol==\"AAPL\"):\n",
    "    print(order.order_id, order.date, order.get_cost())"
   ]
  },
  {
   "cell_type": "code",
   "execution_count": 10,
   "metadata": {
    "collapsed": true
   },
   "outputs": [],
   "source": [
    "order_2 = session.query(Order).filter(Order.order_id=='A0002').first()"
   ]
  },
  {
   "cell_type": "code",
   "execution_count": 11,
   "metadata": {
    "collapsed": false
   },
   "outputs": [
    {
     "data": {
      "text/plain": [
       "'MSFT'"
      ]
     },
     "execution_count": 11,
     "metadata": {},
     "output_type": "execute_result"
    }
   ],
   "source": [
    "order_2.symbol"
   ]
  }
 ],
 "metadata": {
  "kernelspec": {
   "display_name": "Python 3",
   "language": "python",
   "name": "python3"
  },
  "language_info": {
   "codemirror_mode": {
    "name": "ipython",
    "version": 3
   },
   "file_extension": ".py",
   "mimetype": "text/x-python",
   "name": "python",
   "nbconvert_exporter": "python",
   "pygments_lexer": "ipython3",
   "version": "3.6.0"
  }
 },
 "nbformat": 4,
 "nbformat_minor": 2
}
