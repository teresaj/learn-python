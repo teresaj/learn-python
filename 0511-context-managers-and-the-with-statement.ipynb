{
 "cells": [
  {
   "cell_type": "code",
   "execution_count": 1,
   "metadata": {
    "collapsed": true
   },
   "outputs": [],
   "source": [
    "with open('my_file', 'w') as fp:\n",
    "    data = fp.write(\"Hello world\")"
   ]
  },
  {
   "cell_type": "code",
   "execution_count": 2,
   "metadata": {
    "collapsed": false
   },
   "outputs": [
    {
     "name": "stdout",
     "output_type": "stream",
     "text": [
      "<built-in method __enter__ of _io.TextIOWrapper object at 0x0000000004BDC8B8>\n",
      "<built-in method __exit__ of _io.TextIOWrapper object at 0x0000000004BDC8B8>\n"
     ]
    }
   ],
   "source": [
    "print(fp.__enter__)\n",
    "print(fp.__exit__)"
   ]
  },
  {
   "cell_type": "code",
   "execution_count": 5,
   "metadata": {
    "collapsed": false
   },
   "outputs": [],
   "source": [
    "class ContextManager(object):\n",
    "    \n",
    "    def __enter__(self):\n",
    "        print(\"Entering\")\n",
    "    \n",
    "    def __exit__(self, exc_type, exc_value, traceback):\n",
    "         print(\"Entering\")"
   ]
  },
  {
   "cell_type": "code",
   "execution_count": 7,
   "metadata": {
    "collapsed": false
   },
   "outputs": [
    {
     "name": "stdout",
     "output_type": "stream",
     "text": [
      "Entering\n",
      " Inside the with statement\n",
      "Entering\n"
     ]
    }
   ],
   "source": [
    "with ContextManager():\n",
    "    print(\" Inside the with statement\")"
   ]
  },
  {
   "cell_type": "code",
   "execution_count": 9,
   "metadata": {
    "collapsed": false
   },
   "outputs": [
    {
     "name": "stdout",
     "output_type": "stream",
     "text": [
      "Entering\n",
      "Entering\n"
     ]
    },
    {
     "ename": "ZeroDivisionError",
     "evalue": "division by zero",
     "output_type": "error",
     "traceback": [
      "\u001b[0;31m---------------------------------------------------------------------------\u001b[0m",
      "\u001b[0;31mZeroDivisionError\u001b[0m                         Traceback (most recent call last)",
      "\u001b[0;32m<ipython-input-9-8b9ec84e7c0e>\u001b[0m in \u001b[0;36m<module>\u001b[0;34m()\u001b[0m\n\u001b[1;32m      1\u001b[0m \u001b[1;32mwith\u001b[0m \u001b[0mContextManager\u001b[0m\u001b[1;33m(\u001b[0m\u001b[1;33m)\u001b[0m\u001b[1;33m:\u001b[0m\u001b[1;33m\u001b[0m\u001b[0m\n\u001b[0;32m----> 2\u001b[0;31m     \u001b[0mprint\u001b[0m\u001b[1;33m(\u001b[0m\u001b[1;36m1\u001b[0m\u001b[1;33m/\u001b[0m\u001b[1;36m0\u001b[0m\u001b[1;33m)\u001b[0m\u001b[1;33m\u001b[0m\u001b[0m\n\u001b[0m",
      "\u001b[0;31mZeroDivisionError\u001b[0m: division by zero"
     ]
    }
   ],
   "source": [
    "with ContextManager():\n",
    "    print(1/0)"
   ]
  },
  {
   "cell_type": "markdown",
   "metadata": {},
   "source": [
    "####  __enter__返回值"
   ]
  },
  {
   "cell_type": "code",
   "execution_count": 10,
   "metadata": {
    "collapsed": true
   },
   "outputs": [],
   "source": [
    "class ContextManager(object):\n",
    "    \n",
    "    def __enter__(self):\n",
    "        print(\"Entering\")\n",
    "        return \"my value\"\n",
    "    def __exit__(self, exc_type, exc_value, traceback):\n",
    "        print(\"Exiting\")"
   ]
  },
  {
   "cell_type": "code",
   "execution_count": 13,
   "metadata": {
    "collapsed": false
   },
   "outputs": [
    {
     "name": "stdout",
     "output_type": "stream",
     "text": [
      "Entering\n",
      "my value\n",
      "Exiting\n"
     ]
    }
   ],
   "source": [
    "with ContextManager() as value:\n",
    "    print(value)"
   ]
  },
  {
   "cell_type": "markdown",
   "metadata": {},
   "source": [
    "#####  一个通常的做法是将 __enter__ 的返回值设为这个上下文管理器对象本身"
   ]
  },
  {
   "cell_type": "code",
   "execution_count": 15,
   "metadata": {
    "collapsed": false
   },
   "outputs": [
    {
     "name": "stdout",
     "output_type": "stream",
     "text": [
      "<_io.TextIOWrapper name='my_file' mode='r' encoding='cp936'>\n"
     ]
    }
   ],
   "source": [
    "fp = open('my_file', 'r')\n",
    "print(fp.__enter__())\n",
    "fp.close()"
   ]
  },
  {
   "cell_type": "code",
   "execution_count": 16,
   "metadata": {
    "collapsed": true
   },
   "outputs": [],
   "source": [
    "import os\n",
    "os.remove('my_file')"
   ]
  },
  {
   "cell_type": "code",
   "execution_count": 17,
   "metadata": {
    "collapsed": true
   },
   "outputs": [],
   "source": [
    "class ContextManager(object):\n",
    "    \n",
    "    def __enter__(self):\n",
    "        print(\"Entering\")\n",
    "        return self\n",
    "    \n",
    "    def __exit__(self, exc_type, exc_value, traceback):\n",
    "        print(\"Exiting\")"
   ]
  },
  {
   "cell_type": "code",
   "execution_count": 18,
   "metadata": {
    "collapsed": false
   },
   "outputs": [
    {
     "name": "stdout",
     "output_type": "stream",
     "text": [
      "Entering\n",
      "<__main__.ContextManager object at 0x0000000004D40320>\n",
      "Exiting\n"
     ]
    }
   ],
   "source": [
    "with ContextManager() as value:\n",
    "    print(value)"
   ]
  },
  {
   "cell_type": "code",
   "execution_count": 2,
   "metadata": {
    "collapsed": false
   },
   "outputs": [
    {
     "name": "stdout",
     "output_type": "stream",
     "text": [
      "Entering\n",
      "Exiting\n",
      "  Exception: division by zero\n"
     ]
    }
   ],
   "source": [
    "class ContextManager(object):\n",
    "    \n",
    "    def __enter__(self):\n",
    "        print(\"Entering\")\n",
    "    \n",
    "    def __exit__(self, exc_type, exc_value, traceback):\n",
    "        print(\"Exiting\")\n",
    "        if exc_type is not None:\n",
    "            print(\"  Exception:\", exc_value)\n",
    "            return True#增加return True后就不会报错\n",
    "\n",
    "with ContextManager():\n",
    "    print(1/0)"
   ]
  },
  {
   "cell_type": "markdown",
   "metadata": {},
   "source": [
    "##### 使用__init__方法给一个类传递参数"
   ]
  },
  {
   "cell_type": "code",
   "execution_count": 3,
   "metadata": {
    "collapsed": true
   },
   "outputs": [],
   "source": [
    "class Transaction(object):\n",
    "    \n",
    "    def __init__(self, connection):\n",
    "        self.connection = connection\n",
    "    \n",
    "    def __enter__(self):\n",
    "        return self.connection.cursor()\n",
    "    \n",
    "    def __exit__(self, exc_type, exc_value, traceback):\n",
    "        if exc_value is None:\n",
    "            # transaction was OK, so commit\n",
    "            self.connection.commit()\n",
    "        else:\n",
    "            # transaction had a problem, so rollback\n",
    "            self.connection.rollback()"
   ]
  },
  {
   "cell_type": "code",
   "execution_count": 4,
   "metadata": {
    "collapsed": true
   },
   "outputs": [],
   "source": [
    "import sqlite3 as db\n",
    "connection = db.connect(\":memory:\")\n",
    "\n",
    "with Transaction(connection) as cursor:\n",
    "    cursor.execute(\"\"\"CREATE TABLE IF NOT EXISTS addresses (\n",
    "        address_id INTEGER PRIMARY KEY,\n",
    "        street_address TEXT,\n",
    "        city TEXT,\n",
    "        state TEXT,\n",
    "        country TEXT,\n",
    "        postal_code TEXT\n",
    "    )\"\"\")"
   ]
  },
  {
   "cell_type": "code",
   "execution_count": 5,
   "metadata": {
    "collapsed": true
   },
   "outputs": [],
   "source": [
    "with Transaction(connection) as cursor:\n",
    "    cursor.executemany(\"\"\"INSERT OR REPLACE INTO addresses VALUES (?, ?, ?, ?, ?, ?)\"\"\", [\n",
    "        (0, '515 Congress Ave', 'Austin', 'Texas', 'USA', '78701'),\n",
    "        (1, '245 Park Avenue', 'New York', 'New York', 'USA', '10167'),\n",
    "        (2, '21 J.J. Thompson Ave.', 'Cambridge', None, 'UK', 'CB3 0FA'),\n",
    "        (3, 'Supreme Business Park', 'Hiranandani Gardens, Powai, Mumbai', 'Maharashtra', 'India', '400076'),\n",
    "    ])"
   ]
  },
  {
   "cell_type": "code",
   "execution_count": 6,
   "metadata": {
    "collapsed": false
   },
   "outputs": [
    {
     "ename": "Exception",
     "evalue": "out of addresses",
     "output_type": "error",
     "traceback": [
      "\u001b[0;31m---------------------------------------------------------------------------\u001b[0m",
      "\u001b[0;31mException\u001b[0m                                 Traceback (most recent call last)",
      "\u001b[0;32m<ipython-input-6-ed8abdd56558>\u001b[0m in \u001b[0;36m<module>\u001b[0;34m()\u001b[0m\n\u001b[1;32m      3\u001b[0m         \u001b[1;33m(\u001b[0m\u001b[1;36m4\u001b[0m\u001b[1;33m,\u001b[0m \u001b[1;34m'2100 Pennsylvania Ave'\u001b[0m\u001b[1;33m,\u001b[0m \u001b[1;34m'Washington'\u001b[0m\u001b[1;33m,\u001b[0m \u001b[1;34m'DC'\u001b[0m\u001b[1;33m,\u001b[0m \u001b[1;34m'USA'\u001b[0m\u001b[1;33m,\u001b[0m \u001b[1;34m'78701'\u001b[0m\u001b[1;33m)\u001b[0m\u001b[1;33m,\u001b[0m\u001b[1;33m\u001b[0m\u001b[0m\n\u001b[1;32m      4\u001b[0m     )\n\u001b[0;32m----> 5\u001b[0;31m     \u001b[1;32mraise\u001b[0m \u001b[0mException\u001b[0m\u001b[1;33m(\u001b[0m\u001b[1;34m\"out of addresses\"\u001b[0m\u001b[1;33m)\u001b[0m\u001b[1;33m\u001b[0m\u001b[0m\n\u001b[0m",
      "\u001b[0;31mException\u001b[0m: out of addresses"
     ]
    }
   ],
   "source": [
    "with Transaction(connection) as cursor:\n",
    "    cursor.execute(\"\"\"INSERT OR REPLACE INTO addresses VALUES (?, ?, ?, ?, ?, ?)\"\"\",\n",
    "        (4, '2100 Pennsylvania Ave', 'Washington', 'DC', 'USA', '78701'),\n",
    "    )\n",
    "    raise Exception(\"out of addresses\")"
   ]
  },
  {
   "cell_type": "markdown",
   "metadata": {
    "collapsed": true
   },
   "source": [
    "#####  产生问题的最新插入将不会被保存，而是返回上一次commit成功的状态"
   ]
  },
  {
   "cell_type": "code",
   "execution_count": 7,
   "metadata": {
    "collapsed": false
   },
   "outputs": [
    {
     "name": "stdout",
     "output_type": "stream",
     "text": [
      "(0, '515 Congress Ave', 'Austin', 'Texas', 'USA', '78701')\n",
      "(1, '245 Park Avenue', 'New York', 'New York', 'USA', '10167')\n",
      "(2, '21 J.J. Thompson Ave.', 'Cambridge', None, 'UK', 'CB3 0FA')\n",
      "(3, 'Supreme Business Park', 'Hiranandani Gardens, Powai, Mumbai', 'Maharashtra', 'India', '400076')\n"
     ]
    }
   ],
   "source": [
    "cursor.execute(\"SELECT * FROM addresses\")\n",
    "for row in cursor:\n",
    "    print(row)"
   ]
  },
  {
   "cell_type": "markdown",
   "metadata": {},
   "source": [
    "#### python3特性  urllib.urlopen()----urllib.request.urlopen()"
   ]
  },
  {
   "cell_type": "code",
   "execution_count": 10,
   "metadata": {
    "collapsed": false
   },
   "outputs": [
    {
     "name": "stdout",
     "output_type": "stream",
     "text": [
      "b'<!DOCTYPE html>\\n<!--STATUS OK-->\\n\\r\\n\\r\\n\\r\\n\\r\\n\\r\\n\\r\\n\\r\\n\\r\\n\\r\\n\\r\\n\\r\\n\\r\\n\\r\\n\\r\\n\\r\\n\\r\\n\\r\\n\\r\\n\\r\\n\\r\\n\\r\\n\\r\\n\\r\\n\\r\\n\\r\\n\\r\\n\\r\\n\\r\\n\\r\\n\\r\\n\\r\\n\\r\\n\\r\\n\\r'\n"
     ]
    }
   ],
   "source": [
    "from contextlib import closing\n",
    "import urllib.request\n",
    "\n",
    "with closing(urllib.request.urlopen('http://www.baidu.com')) as url:\n",
    "    html = url.read()\n",
    "\n",
    "print(html[:100])"
   ]
  },
  {
   "cell_type": "markdown",
   "metadata": {
    "collapsed": true
   },
   "source": [
    "#### 使用修饰符 @contextlib\n",
    "contextmanager 这个装饰器接受一个 generator，用 yield 语句把 with ... as var 把变量输出出去，然后，with 语句就可以正常的工作了\n",
    "\n",
    "\n",
    "代码的执行顺序是：\n",
    "\n",
    " with 语句 首先执行 yield 之前的语句\n",
    " yield 调用会执行 with 语句内部的所有语句\n",
    " 最后执行yield之后的语句"
   ]
  },
  {
   "cell_type": "code",
   "execution_count": 11,
   "metadata": {
    "collapsed": false
   },
   "outputs": [
    {
     "name": "stdout",
     "output_type": "stream",
     "text": [
      "Enter\n",
      "  Inside the with statement\n",
      "Exit\n"
     ]
    }
   ],
   "source": [
    "from contextlib import contextmanager\n",
    "\n",
    "@contextmanager\n",
    "def my_contextmanager():\n",
    "    print(\"Enter\")\n",
    "    yield\n",
    "    print(\"Exit\")\n",
    "\n",
    "with my_contextmanager():\n",
    "    print(\"  Inside the with statement\")"
   ]
  },
  {
   "cell_type": "code",
   "execution_count": 12,
   "metadata": {
    "collapsed": false
   },
   "outputs": [
    {
     "name": "stdout",
     "output_type": "stream",
     "text": [
      "Enter\n",
      "my value\n",
      "Exit\n"
     ]
    }
   ],
   "source": [
    "@contextmanager\n",
    "def my_contextmanager():\n",
    "    print(\"Enter\")\n",
    "    yield \"my value\"\n",
    "    print(\"Exit\")\n",
    "\n",
    "with my_contextmanager() as value:\n",
    "    print(value)"
   ]
  },
  {
   "cell_type": "code",
   "execution_count": 13,
   "metadata": {
    "collapsed": false
   },
   "outputs": [
    {
     "name": "stdout",
     "output_type": "stream",
     "text": [
      "Enter\n",
      "   Error: division by zero\n",
      "Exit\n"
     ]
    }
   ],
   "source": [
    "@contextmanager\n",
    "def my_contextmanager():\n",
    "    print(\"Enter\")\n",
    "    try:\n",
    "        yield\n",
    "    except Exception as exc:\n",
    "        print(\"   Error:\", exc)\n",
    "    finally:\n",
    "        print(\"Exit\")\n",
    "        \n",
    "with my_contextmanager():\n",
    "    print(1/0)"
   ]
  },
  {
   "cell_type": "code",
   "execution_count": 14,
   "metadata": {
    "collapsed": true
   },
   "outputs": [],
   "source": [
    "@contextmanager\n",
    "def transaction(connection):\n",
    "    cursor = connection.cursor()\n",
    "    try:\n",
    "        yield cursor\n",
    "    except:\n",
    "        connection.rollback()\n",
    "        raise\n",
    "    else:\n",
    "        connection.commit()"
   ]
  },
  {
   "cell_type": "code",
   "execution_count": 16,
   "metadata": {
    "collapsed": false
   },
   "outputs": [
    {
     "name": "stdout",
     "output_type": "stream",
     "text": [
      "Entering\n",
      "In the block\n",
      "Exiting\n"
     ]
    }
   ],
   "source": [
    "class PythonContextManagerDemo:\n",
    "    \n",
    "    def __enter__(self):\n",
    "        print(\"Entering\")\n",
    "    def __exit__(self, *unused):\n",
    "        print(\"Exiting\")\n",
    "with PythonContextManagerDemo():\n",
    "    print(\"In the block\")"
   ]
  }
 ],
 "metadata": {
  "kernelspec": {
   "display_name": "Python 3",
   "language": "python",
   "name": "python3"
  },
  "language_info": {
   "codemirror_mode": {
    "name": "ipython",
    "version": 3
   },
   "file_extension": ".py",
   "mimetype": "text/x-python",
   "name": "python",
   "nbconvert_exporter": "python",
   "pygments_lexer": "ipython3",
   "version": "3.6.0"
  }
 },
 "nbformat": 4,
 "nbformat_minor": 2
}
