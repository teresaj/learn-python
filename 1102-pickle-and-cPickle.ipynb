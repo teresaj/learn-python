{
 "cells": [
  {
   "cell_type": "markdown",
   "metadata": {},
   "source": [
    "#### pickle, cPickle模块：序列化python对象\n",
    "pickle作用：将任意的python对象转化为一系列字节，或将这些字节重构为具有相同特征的新对象\n",
    "cPickle作用：将使用C实现相同算法，因此速度更快，但不允许派生子类"
   ]
  },
  {
   "cell_type": "code",
   "execution_count": 1,
   "metadata": {
    "collapsed": true
   },
   "outputs": [],
   "source": [
    "try:\n",
    "    import cPickle as pickle\n",
    "except:\n",
    "    import pickle"
   ]
  },
  {
   "cell_type": "markdown",
   "metadata": {},
   "source": [
    "##### pickle.dump(obj, file, [,protocol])\n",
    "含义：pickle.dump（对象，文件，[使用协议]）\n",
    "将要持久化的数据“对象”，保存到“文件”中，使用有3种协议，索引0为ASCII，1为旧式二进制，2为新式二进制协议，不同之处在于2要更高效一些。\n",
    "默认dump方法使用0做协议\n",
    "\n",
    "##### pickle.load(file)\n",
    "含义：pickle.load(文件)，将file中的对象序列化读出。\n",
    "从“文件”中读取字符串，将他们反序列化转换为python的数据对象，可以像操作数据类型的这些方法来操作它们；　　\n",
    "\n",
    "##### pickle.dumps(obj[, protocol])\n",
    "函数的功能：将obj对象序列化为string形式，而不是存入文件中。\n",
    "obj：想要序列化的obj对象。\n",
    "protocal：如果该项省略，则默认为0。如果为负值或HIGHEST_PROTOCOL，则使用最高的协议版本。\n",
    "\n",
    "##### pickle.loads(string)\n",
    "函数的功能：从string中读出序列化前的obj对象。\n",
    "string：文件名称。"
   ]
  },
  {
   "cell_type": "code",
   "execution_count": 5,
   "metadata": {
    "collapsed": false
   },
   "outputs": [
    {
     "name": "stdout",
     "output_type": "stream",
     "text": [
      "DATA:\n",
      "[{'a': 'A', 'b': 2, 'c': 3.0}]\n",
      "PICKLE:\n",
      "b'\\x80\\x03]q\\x00}q\\x01(X\\x01\\x00\\x00\\x00aq\\x02X\\x01\\x00\\x00\\x00Aq\\x03X\\x01\\x00\\x00\\x00bq\\x04K\\x02X\\x01\\x00\\x00\\x00cq\\x05G@\\x08\\x00\\x00\\x00\\x00\\x00\\x00ua.'\n"
     ]
    }
   ],
   "source": [
    "data = [ { 'a':'A', 'b':2, 'c':3.0 } ]\n",
    "\n",
    "data_string = pickle.dumps(data)\n",
    "\n",
    "print(\"DATA:\")\n",
    "print(data)\n",
    "print(\"PICKLE:\")\n",
    "print(data_string)"
   ]
  },
  {
   "cell_type": "markdown",
   "metadata": {},
   "source": [
    "##### pickle.load()可以从字符串中恢复对象"
   ]
  },
  {
   "cell_type": "code",
   "execution_count": 6,
   "metadata": {
    "collapsed": false
   },
   "outputs": [
    {
     "name": "stdout",
     "output_type": "stream",
     "text": [
      "[{'a': 'A', 'b': 2, 'c': 3.0}]\n"
     ]
    }
   ],
   "source": [
    "data_from_string = pickle.loads(data_string)\n",
    "\n",
    "print(data_from_string)"
   ]
  },
  {
   "cell_type": "markdown",
   "metadata": {},
   "source": [
    "##### 关于参数file，有一点需要注意，必须是以二进制的形式进行操作（读取）。"
   ]
  },
  {
   "cell_type": "code",
   "execution_count": 20,
   "metadata": {
    "collapsed": false
   },
   "outputs": [
    {
     "name": "stdout",
     "output_type": "stream",
     "text": [
      "['apple', 'mango', 'carrot']\n",
      "<class 'list'>\n"
     ]
    }
   ],
   "source": [
    "import pickle\n",
    "\n",
    "a = ['apple', 'mango', 'carrot']\n",
    "\n",
    "with open('shoplist', 'wb') as file:\n",
    "    pickle.dump(a, file)\n",
    "\n",
    "with open(\"shoplist\", 'rb') as f:\n",
    "    b = pickle.load(f)\n",
    "\n",
    "print(b)\n",
    "print(type(b))"
   ]
  },
  {
   "cell_type": "markdown",
   "metadata": {},
   "source": [
    "##### 一个列表info，用 pickle.dumps()方法将info序列化为string形式，而不是存入文件中。用pickle.loads()方法从string（文件名称data1）读出序列化前的对象。"
   ]
  },
  {
   "cell_type": "code",
   "execution_count": 21,
   "metadata": {
    "collapsed": false
   },
   "outputs": [
    {
     "name": "stdout",
     "output_type": "stream",
     "text": [
      "原始数据：\n",
      "[1, 2, 3, 'cpx', 'iloveu']\n",
      "序列化：b'\\x80\\x03]q\\x00(K\\x01K\\x02K\\x03X\\x03\\x00\\x00\\x00cpxq\\x01X\\x06\\x00\\x00\\x00iloveuq\\x02e.'\n",
      "反序列化：[1, 2, 3, 'cpx', 'iloveu']\n"
     ]
    }
   ],
   "source": [
    "import pickle\n",
    "import pprint\n",
    "\n",
    "info = [1, 2, 3, 'egz', 'iloveu']\n",
    "print('原始数据：')\n",
    "pprint.pprint(info)\n",
    "\n",
    "data1 = pickle.dumps(info)\n",
    "data2 = pickle.loads(data1)\n",
    "\n",
    "print(\"序列化：%r\" % data1)\n",
    "print(\"反序列化：%r\" % data2)"
   ]
  },
  {
   "cell_type": "code",
   "execution_count": 22,
   "metadata": {
    "collapsed": false
   },
   "outputs": [
    {
     "name": "stdout",
     "output_type": "stream",
     "text": [
      "原始数据dataList: \n",
      "[[8, 1, 'python'],\n",
      " [8, 1, 'python'],\n",
      " [8, 0, 'python'],\n",
      " [8, 1, 'c++'],\n",
      " [8, 1, 'c++']]\n",
      "\n",
      "\n",
      "原始数据dataDic: \n",
      "{0: [1, 2, 3, 4], 1: ('a', 'b'), 2: {'c': 'yes', 'd': 'no'}}\n"
     ]
    }
   ],
   "source": [
    "import pickle\n",
    "import pprint\n",
    "\n",
    "dataList = [[8, 1, 'python'],\n",
    "            [8, 1, 'python'],\n",
    "            [8, 0, 'python'],\n",
    "            [8, 1, 'c++'],\n",
    "            [8, 1, 'c++']]\n",
    "dataDic = {0: [1, 2, 3, 4],\n",
    "           1: ('a', 'b'),\n",
    "           2: {'c': 'yes', 'd': 'no'}}\n",
    "print(\"原始数据dataList: \")\n",
    "pprint.pprint(dataList)\n",
    "print('\\n')\n",
    "print(\"原始数据dataDic: \")\n",
    "pprint.pprint(dataDic)"
   ]
  },
  {
   "cell_type": "code",
   "execution_count": 24,
   "metadata": {
    "collapsed": false
   },
   "outputs": [
    {
     "name": "stdout",
     "output_type": "stream",
     "text": [
      "\n",
      "反序列化1：[[8, 1, 'python'], [8, 1, 'python'], [8, 0, 'python'], [8, 1, 'c++'], [8, 1, 'c++']]\n",
      "反序列化2：{0: [1, 2, 3, 4], 1: ('a', 'b'), 2: {'c': 'yes', 'd': 'no'}}\n",
      "\n",
      "[[8, 1, 'python'], [8, 1, 'python'], [8, 0, 'python'], [8, 1, 'c++'], [8, 1, 'c++']]\n",
      "{0: [1, 2, 3, 4], 1: ('a', 'b'), 2: {'c': 'yes', 'd': 'no'}}\n"
     ]
    }
   ],
   "source": [
    " # 使用dump()将数据序列化到文件中\n",
    "fw = open('dataFile.txt', 'wb')\n",
    "pickle.dump(dataList, fw)\n",
    "pickle.dump(dataDic, fw)\n",
    "fw.close()\n",
    "\n",
    "# 使用load()将数据从文件中序列化读出\n",
    "fr = open('dataFile.txt', 'rb')\n",
    "data1 = pickle.load(fr)\n",
    "print('\\n'+\"反序列化1：%r\" % data1)\n",
    "data2 = pickle.load(fr)\n",
    "print(\"反序列化2：%r\" % data2 + '\\n')\n",
    "fr.close()\n",
    "\n",
    "# 使用dumps()和loads()举例\n",
    "p = pickle.dumps(dataList)\n",
    "print(pickle.loads(p))\n",
    "p = pickle.dumps(dataDic)\n",
    "print(pickle.loads(p))"
   ]
  },
  {
   "cell_type": "markdown",
   "metadata": {},
   "source": [
    "##### pick.clear_memo()\n",
    "序列化有备忘，如果没有清空备忘，对同一对象多次调用dump(obj)，pickle会调用已运行过的"
   ]
  },
  {
   "cell_type": "markdown",
   "metadata": {},
   "source": [
    "#### 编码协议\n",
    "\n",
    "dumps 可以接受一个可省略的 protocol 参数（默认为 0），目前有 3 种编码方式：\n",
    "\n",
    "0：原始的 ASCII 编码格式\n",
    "1：二进制编码格式\n",
    "2：更有效的二进制编码格式\n",
    "当前最高级的编码可以通过 HIGHEST_PROTOCOL 查看："
   ]
  },
  {
   "cell_type": "code",
   "execution_count": 16,
   "metadata": {
    "collapsed": false
   },
   "outputs": [
    {
     "name": "stdout",
     "output_type": "stream",
     "text": [
      "4\n"
     ]
    }
   ],
   "source": [
    "print(pickle.HIGHEST_PROTOCOL)"
   ]
  },
  {
   "cell_type": "code",
   "execution_count": 17,
   "metadata": {
    "collapsed": false
   },
   "outputs": [
    {
     "name": "stdout",
     "output_type": "stream",
     "text": [
      "Pickle 1: b']q\\x00}q\\x01(X\\x01\\x00\\x00\\x00aq\\x02X\\x01\\x00\\x00\\x00Aq\\x03X\\x01\\x00\\x00\\x00bq\\x04K\\x02X\\x01\\x00\\x00\\x00cq\\x05G@\\x08\\x00\\x00\\x00\\x00\\x00\\x00ua.'\n"
     ]
    }
   ],
   "source": [
    "data_string_1 = pickle.dumps(data, 1)\n",
    "print(\"Pickle 1:\", data_string_1)"
   ]
  },
  {
   "cell_type": "code",
   "execution_count": 18,
   "metadata": {
    "collapsed": false
   },
   "outputs": [
    {
     "name": "stdout",
     "output_type": "stream",
     "text": [
      "Pickle 2: b'\\x80\\x02]q\\x00}q\\x01(X\\x01\\x00\\x00\\x00aq\\x02X\\x01\\x00\\x00\\x00Aq\\x03X\\x01\\x00\\x00\\x00bq\\x04K\\x02X\\x01\\x00\\x00\\x00cq\\x05G@\\x08\\x00\\x00\\x00\\x00\\x00\\x00ua.'\n"
     ]
    }
   ],
   "source": [
    "data_string_2 = pickle.dumps(data, 2)\n",
    "print(\"Pickle 2:\", data_string_2)"
   ]
  },
  {
   "cell_type": "code",
   "execution_count": 19,
   "metadata": {
    "collapsed": false
   },
   "outputs": [
    {
     "ename": "SyntaxError",
     "evalue": "unexpected EOF while parsing (<ipython-input-19-0c48ea44966f>, line 1)",
     "output_type": "error",
     "traceback": [
      "\u001b[0;36m  File \u001b[0;32m\"<ipython-input-19-0c48ea44966f>\"\u001b[0;36m, line \u001b[0;32m1\u001b[0m\n\u001b[0;31m    print(Pickle.dumps(data, -1)\u001b[0m\n\u001b[0m                                ^\u001b[0m\n\u001b[0;31mSyntaxError\u001b[0m\u001b[0;31m:\u001b[0m unexpected EOF while parsing\n"
     ]
    }
   ],
   "source": [
    "print(Pickle.dumps(data, -1)"
   ]
  },
  {
   "cell_type": "code",
   "execution_count": 25,
   "metadata": {
    "collapsed": false
   },
   "outputs": [
    {
     "name": "stdout",
     "output_type": "stream",
     "text": [
      "Load 1: [{'a': 'A', 'b': 2, 'c': 3.0}]\n",
      "Load 2: [{'a': 'A', 'b': 2, 'c': 3.0}]\n"
     ]
    }
   ],
   "source": [
    "print(\"Load 1:\", pickle.loads(data_string_1))\n",
    "print(\"Load 2:\", pickle.loads(data_string_2))"
   ]
  },
  {
   "cell_type": "code",
   "execution_count": 30,
   "metadata": {
    "collapsed": false
   },
   "outputs": [
    {
     "name": "stdout",
     "output_type": "stream",
     "text": [
      "[{'a': 'A', 'b': 2, 'c': 3.0}]\n"
     ]
    }
   ],
   "source": [
    "data = [ { 'a':'A', 'b':2, 'c':3.0 } ]\n",
    "\n",
    "with open(\"data.pkl\", \"wb\") as f:\n",
    "    pickle.dump(data, f)\n",
    "    \n",
    "with open(\"data.pkl\", 'rb') as f:\n",
    "    data_from_file = pickle.load(f)\n",
    "    \n",
    "print(data_from_file)"
   ]
  },
  {
   "cell_type": "code",
   "execution_count": 31,
   "metadata": {
    "collapsed": true
   },
   "outputs": [],
   "source": [
    "import os \n",
    "os.remove(\"data.pkl\")"
   ]
  }
 ],
 "metadata": {
  "kernelspec": {
   "display_name": "Python 3",
   "language": "python",
   "name": "python3"
  },
  "language_info": {
   "codemirror_mode": {
    "name": "ipython",
    "version": 3
   },
   "file_extension": ".py",
   "mimetype": "text/x-python",
   "name": "python",
   "nbconvert_exporter": "python",
   "pygments_lexer": "ipython3",
   "version": "3.6.0"
  }
 },
 "nbformat": 4,
 "nbformat_minor": 2
}
