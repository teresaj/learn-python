{
 "cells": [
  {
   "cell_type": "markdown",
   "metadata": {},
   "source": [
    "####  文件模式匹配"
   ]
  },
  {
   "cell_type": "code",
   "execution_count": 1,
   "metadata": {
    "collapsed": true
   },
   "outputs": [],
   "source": [
    "import glob"
   ]
  },
  {
   "cell_type": "markdown",
   "metadata": {},
   "source": [
    "##### 找到所有以.ipynb结尾的文件名"
   ]
  },
  {
   "cell_type": "code",
   "execution_count": 2,
   "metadata": {
    "collapsed": false
   },
   "outputs": [
    {
     "data": {
      "text/plain": [
       "['17.Notebook.ipynb',\n",
       " '0512-decorators.ipynb',\n",
       " '0513-decorator-usage.ipynb',\n",
       " '0515-scope.ipynb',\n",
       " '0514-the-operator-functools-itertools-toolz-fn-funcy-module.ipynb',\n",
       " '0510-generators.ipynb',\n",
       " '0516-dynamic-code-execution.ipynb',\n",
       " '1101-pprint.ipynb',\n",
       " '1103-json.ipynb',\n",
       " '1102-pickle-and-cPickle.ipynb',\n",
       " '02.ipynb',\n",
       " '1104-glob.ipynb',\n",
       " '02-（13-18）.ipynb',\n",
       " '0220--0221.ipynb',\n",
       " '0219.ipynb',\n",
       " '0501-advanced.ipynb',\n",
       " '0502-interacting-with-the-OS.ipynb',\n",
       " '0503-comma-separated-values.ipynb',\n",
       " '0504-regular-expression.ipynb',\n",
       " '0505-datetime.ipynb',\n",
       " '0506-sql-databases.ipynb',\n",
       " '0507-object-relational-mappers.ipynb',\n",
       " '0508-functions.ipynb',\n",
       " '0509-iterators.ipynb',\n",
       " '0511-context-managers-and-the-with-statement.ipynb']"
      ]
     },
     "execution_count": 2,
     "metadata": {},
     "output_type": "execute_result"
    }
   ],
   "source": [
    "glob.glob(\"*.ipynb\")"
   ]
  },
  {
   "cell_type": "markdown",
   "metadata": {},
   "source": [
    "##### glob函数的三种语法格式：\n",
    "* 匹配单个或多个字符\n",
    "? 匹配任意单个字符\n",
    "[] 匹配指定范围内的字符，如：[0-9]匹配数字。"
   ]
  },
  {
   "cell_type": "code",
   "execution_count": 7,
   "metadata": {
    "collapsed": false
   },
   "outputs": [
    {
     "data": {
      "text/plain": [
       "['1101-pprint.ipynb',\n",
       " '1103-json.ipynb',\n",
       " '1102-pickle-and-cPickle.ipynb',\n",
       " '1104-glob.ipynb']"
      ]
     },
     "execution_count": 7,
     "metadata": {},
     "output_type": "execute_result"
    }
   ],
   "source": [
    "glob.glob(\"11*.ipynb\")"
   ]
  },
  {
   "cell_type": "code",
   "execution_count": 8,
   "metadata": {
    "collapsed": false
   },
   "outputs": [
    {
     "data": {
      "text/plain": [
       "['17.Notebook.ipynb',\n",
       " '0512-decorators.ipynb',\n",
       " '0513-decorator-usage.ipynb',\n",
       " '0515-scope.ipynb',\n",
       " '0514-the-operator-functools-itertools-toolz-fn-funcy-module.ipynb',\n",
       " '0510-generators.ipynb',\n",
       " '0516-dynamic-code-execution.ipynb',\n",
       " '1101-pprint.ipynb',\n",
       " '1103-json.ipynb',\n",
       " '1102-pickle-and-cPickle.ipynb',\n",
       " '02.ipynb',\n",
       " '1104-glob.ipynb',\n",
       " '02-（13-18）.ipynb',\n",
       " '0220--0221.ipynb',\n",
       " '0219.ipynb',\n",
       " '0501-advanced.ipynb',\n",
       " '0502-interacting-with-the-OS.ipynb',\n",
       " '0503-comma-separated-values.ipynb',\n",
       " '0504-regular-expression.ipynb',\n",
       " '0505-datetime.ipynb',\n",
       " '0506-sql-databases.ipynb',\n",
       " '0507-object-relational-mappers.ipynb',\n",
       " '0508-functions.ipynb',\n",
       " '0509-iterators.ipynb',\n",
       " '0511-context-managers-and-the-with-statement.ipynb']"
      ]
     },
     "execution_count": 8,
     "metadata": {},
     "output_type": "execute_result"
    }
   ],
   "source": [
    "glob.glob(\"[0-9]*\")"
   ]
  }
 ],
 "metadata": {
  "kernelspec": {
   "display_name": "Python 3",
   "language": "python",
   "name": "python3"
  },
  "language_info": {
   "codemirror_mode": {
    "name": "ipython",
    "version": 3
   },
   "file_extension": ".py",
   "mimetype": "text/x-python",
   "name": "python",
   "nbconvert_exporter": "python",
   "pygments_lexer": "ipython3",
   "version": "3.6.0"
  }
 },
 "nbformat": 4,
 "nbformat_minor": 2
}
