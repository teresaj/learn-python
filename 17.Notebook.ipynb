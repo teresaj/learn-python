{
 "cells": [
  {
   "cell_type": "code",
   "execution_count": 1,
   "metadata": {
    "collapsed": false
   },
   "outputs": [
    {
     "name": "stdout",
     "output_type": "stream",
     "text": [
      "hello world!\n"
     ]
    }
   ],
   "source": [
    "print(\"hello world!\")"
   ]
  },
  {
   "cell_type": "code",
   "execution_count": 2,
   "metadata": {
    "collapsed": false
   },
   "outputs": [
    {
     "name": "stdout",
     "output_type": "stream",
     "text": [
      "The Zen of Python, by Tim Peters\n",
      "\n",
      "Beautiful is better than ugly.\n",
      "Explicit is better than implicit.\n",
      "Simple is better than complex.\n",
      "Complex is better than complicated.\n",
      "Flat is better than nested.\n",
      "Sparse is better than dense.\n",
      "Readability counts.\n",
      "Special cases aren't special enough to break the rules.\n",
      "Although practicality beats purity.\n",
      "Errors should never pass silently.\n",
      "Unless explicitly silenced.\n",
      "In the face of ambiguity, refuse the temptation to guess.\n",
      "There should be one-- and preferably only one --obvious way to do it.\n",
      "Although that way may not be obvious at first unless you're Dutch.\n",
      "Now is better than never.\n",
      "Although never is often better than *right* now.\n",
      "If the implementation is hard to explain, it's a bad idea.\n",
      "If the implementation is easy to explain, it may be a good idea.\n",
      "Namespaces are one honking great idea -- let's do more of those!\n"
     ]
    }
   ],
   "source": [
    "import this"
   ]
  },
  {
   "cell_type": "code",
   "execution_count": 6,
   "metadata": {
    "collapsed": false
   },
   "outputs": [
    {
     "name": "stdout",
     "output_type": "stream",
     "text": [
      "The Zen of Python, by Tim Peters\n",
      "\n",
      "Beautiful is better than ugly.\n",
      "Explicit is better than implicit.\n",
      "Simple is better than complex.\n",
      "Complex is better than complicated.\n",
      "Flat is better than nested.\n",
      "Sparse is better than dense.\n",
      "Readability counts.\n",
      "Special cases aren't special enough to break the rules.\n",
      "Although practicality beats purity.\n",
      "Errors should never pass silently.\n",
      "Unless explicitly silenced.\n",
      "In the face of ambiguity, refuse the temptation to guess.\n",
      "There should be one-- and preferably only one --obvious way to do it.\n",
      "Although that way may not be obvious at first unless you're Dutch.\n",
      "Now is better than never.\n",
      "Although never is often better than *right* now.\n",
      "If the implementation is hard to explain, it's a bad idea.\n",
      "If the implementation is easy to explain, it may be a good idea.\n",
      "Namespaces are one honking great idea -- let's do more of those!\n"
     ]
    }
   ],
   "source": [
    "s = \"\"\"Gur Mra bs Clguba, ol Gvz Crgref\n",
    "\n",
    "Ornhgvshy vf orggre guna htyl.\n",
    "Rkcyvpvg vf orggre guna vzcyvpvg.\n",
    "Fvzcyr vf orggre guna pbzcyrk.\n",
    "Pbzcyrk vf orggre guna pbzcyvpngrq.\n",
    "Syng vf orggre guna arfgrq.\n",
    "Fcnefr vf orggre guna qrafr.\n",
    "Ernqnovyvgl pbhagf.\n",
    "Fcrpvny pnfrf nera'g fcrpvny rabhtu gb oernx gur ehyrf.\n",
    "Nygubhtu cenpgvpnyvgl orngf chevgl.\n",
    "Reebef fubhyq arire cnff fvyragyl.\n",
    "Hayrff rkcyvpvgyl fvyraprq.\n",
    "Va gur snpr bs nzovthvgl, ershfr gur grzcgngvba gb thrff.\n",
    "Gurer fubhyq or bar-- naq cersrenoyl bayl bar --boivbhf jnl gb qb vg.\n",
    "Nygubhtu gung jnl znl abg or boivbhf ng svefg hayrff lbh'er Qhgpu.\n",
    "Abj vf orggre guna arire.\n",
    "Nygubhtu arire vf bsgra orggre guna *evtug* abj.\n",
    "Vs gur vzcyrzragngvba vf uneq gb rkcynva, vg'f n onq vqrn.\n",
    "Vs gur vzcyrzragngvba vf rnfl gb rkcynva, vg znl or n tbbq vqrn.\n",
    "Anzrfcnprf ner bar ubaxvat terng vqrn -- yrg'f qb zber bs gubfr!\"\"\"\n",
    "\n",
    "d = {}\n",
    "for c in (65, 97):\n",
    "    for i in range(26):\n",
    "        d[chr(i+c)]= chr((i+13) % 26 + c)\n",
    "        \n",
    "print(\"\".join([d.get(c,c) for c in s]))"
   ]
  },
  {
   "cell_type": "code",
   "execution_count": 7,
   "metadata": {
    "collapsed": false
   },
   "outputs": [
    {
     "name": "stdout",
     "output_type": "stream",
     "text": [
      "hello,world\n"
     ]
    }
   ],
   "source": [
    "print(\"hello,world\")"
   ]
  },
  {
   "cell_type": "code",
   "execution_count": 8,
   "metadata": {
    "collapsed": true
   },
   "outputs": [],
   "source": [
    "a=1"
   ]
  },
  {
   "cell_type": "code",
   "execution_count": 9,
   "metadata": {
    "collapsed": false
   },
   "outputs": [
    {
     "data": {
      "text/plain": [
       "1"
      ]
     },
     "execution_count": 9,
     "metadata": {},
     "output_type": "execute_result"
    }
   ],
   "source": [
    "a"
   ]
  },
  {
   "cell_type": "code",
   "execution_count": 11,
   "metadata": {
    "collapsed": true
   },
   "outputs": [],
   "source": [
    "b=[1,2,3]"
   ]
  },
  {
   "cell_type": "code",
   "execution_count": 12,
   "metadata": {
    "collapsed": false
   },
   "outputs": [
    {
     "data": {
      "application/json": {
       "cell": {
        "!": "OSMagics",
        "HTML": "Other",
        "SVG": "Other",
        "bash": "Other",
        "capture": "ExecutionMagics",
        "cmd": "Other",
        "debug": "ExecutionMagics",
        "file": "Other",
        "html": "DisplayMagics",
        "javascript": "DisplayMagics",
        "js": "DisplayMagics",
        "latex": "DisplayMagics",
        "perl": "Other",
        "prun": "ExecutionMagics",
        "pypy": "Other",
        "python": "Other",
        "python2": "Other",
        "python3": "Other",
        "ruby": "Other",
        "script": "ScriptMagics",
        "sh": "Other",
        "svg": "DisplayMagics",
        "sx": "OSMagics",
        "system": "OSMagics",
        "time": "ExecutionMagics",
        "timeit": "ExecutionMagics",
        "writefile": "OSMagics"
       },
       "line": {
        "alias": "OSMagics",
        "alias_magic": "BasicMagics",
        "autocall": "AutoMagics",
        "automagic": "AutoMagics",
        "autosave": "KernelMagics",
        "bookmark": "OSMagics",
        "cd": "OSMagics",
        "clear": "KernelMagics",
        "cls": "KernelMagics",
        "colors": "BasicMagics",
        "config": "ConfigMagics",
        "connect_info": "KernelMagics",
        "copy": "Other",
        "ddir": "Other",
        "debug": "ExecutionMagics",
        "dhist": "OSMagics",
        "dirs": "OSMagics",
        "doctest_mode": "BasicMagics",
        "echo": "Other",
        "ed": "Other",
        "edit": "KernelMagics",
        "env": "OSMagics",
        "gui": "BasicMagics",
        "hist": "Other",
        "history": "HistoryMagics",
        "killbgscripts": "ScriptMagics",
        "ldir": "Other",
        "less": "KernelMagics",
        "load": "CodeMagics",
        "load_ext": "ExtensionMagics",
        "loadpy": "CodeMagics",
        "logoff": "LoggingMagics",
        "logon": "LoggingMagics",
        "logstart": "LoggingMagics",
        "logstate": "LoggingMagics",
        "logstop": "LoggingMagics",
        "ls": "Other",
        "lsmagic": "BasicMagics",
        "macro": "ExecutionMagics",
        "magic": "BasicMagics",
        "matplotlib": "PylabMagics",
        "mkdir": "Other",
        "more": "KernelMagics",
        "notebook": "BasicMagics",
        "page": "BasicMagics",
        "pastebin": "CodeMagics",
        "pdb": "ExecutionMagics",
        "pdef": "NamespaceMagics",
        "pdoc": "NamespaceMagics",
        "pfile": "NamespaceMagics",
        "pinfo": "NamespaceMagics",
        "pinfo2": "NamespaceMagics",
        "popd": "OSMagics",
        "pprint": "BasicMagics",
        "precision": "BasicMagics",
        "profile": "BasicMagics",
        "prun": "ExecutionMagics",
        "psearch": "NamespaceMagics",
        "psource": "NamespaceMagics",
        "pushd": "OSMagics",
        "pwd": "OSMagics",
        "pycat": "OSMagics",
        "pylab": "PylabMagics",
        "qtconsole": "KernelMagics",
        "quickref": "BasicMagics",
        "recall": "HistoryMagics",
        "rehashx": "OSMagics",
        "reload_ext": "ExtensionMagics",
        "ren": "Other",
        "rep": "Other",
        "rerun": "HistoryMagics",
        "reset": "NamespaceMagics",
        "reset_selective": "NamespaceMagics",
        "rmdir": "Other",
        "run": "ExecutionMagics",
        "save": "CodeMagics",
        "sc": "OSMagics",
        "set_env": "OSMagics",
        "store": "StoreMagics",
        "sx": "OSMagics",
        "system": "OSMagics",
        "tb": "ExecutionMagics",
        "time": "ExecutionMagics",
        "timeit": "ExecutionMagics",
        "unalias": "OSMagics",
        "unload_ext": "ExtensionMagics",
        "who": "NamespaceMagics",
        "who_ls": "NamespaceMagics",
        "whos": "NamespaceMagics",
        "xdel": "NamespaceMagics",
        "xmode": "BasicMagics"
       }
      },
      "text/plain": [
       "Available line magics:\n",
       "%alias  %alias_magic  %autocall  %automagic  %autosave  %bookmark  %cd  %clear  %cls  %colors  %config  %connect_info  %copy  %ddir  %debug  %dhist  %dirs  %doctest_mode  %echo  %ed  %edit  %env  %gui  %hist  %history  %killbgscripts  %ldir  %less  %load  %load_ext  %loadpy  %logoff  %logon  %logstart  %logstate  %logstop  %ls  %lsmagic  %macro  %magic  %matplotlib  %mkdir  %more  %notebook  %page  %pastebin  %pdb  %pdef  %pdoc  %pfile  %pinfo  %pinfo2  %popd  %pprint  %precision  %profile  %prun  %psearch  %psource  %pushd  %pwd  %pycat  %pylab  %qtconsole  %quickref  %recall  %rehashx  %reload_ext  %ren  %rep  %rerun  %reset  %reset_selective  %rmdir  %run  %save  %sc  %set_env  %store  %sx  %system  %tb  %time  %timeit  %unalias  %unload_ext  %who  %who_ls  %whos  %xdel  %xmode\n",
       "\n",
       "Available cell magics:\n",
       "%%!  %%HTML  %%SVG  %%bash  %%capture  %%cmd  %%debug  %%file  %%html  %%javascript  %%js  %%latex  %%perl  %%prun  %%pypy  %%python  %%python2  %%python3  %%ruby  %%script  %%sh  %%svg  %%sx  %%system  %%time  %%timeit  %%writefile\n",
       "\n",
       "Automagic is ON, % prefix IS NOT needed for line magics."
      ]
     },
     "execution_count": 12,
     "metadata": {},
     "output_type": "execute_result"
    }
   ],
   "source": [
    "%lsmagic"
   ]
  },
  {
   "cell_type": "code",
   "execution_count": 13,
   "metadata": {
    "collapsed": false
   },
   "outputs": [
    {
     "name": "stdout",
     "output_type": "stream",
     "text": [
      "Variable   Type      Data/Info\n",
      "------------------------------\n",
      "a          int       1\n",
      "b          list      n=3\n",
      "c          int       97\n",
      "d          dict      n=52\n",
      "i          int       25\n",
      "s          str       Gur Mra bs Clguba, ol Gvz<...>- yrg'f qb zber bs gubfr!\n",
      "this       module    <module 'this' from 'd:\\\\<...>Anaconda3\\\\lib\\\\this.py'>\n"
     ]
    }
   ],
   "source": [
    "%whos"
   ]
  },
  {
   "cell_type": "code",
   "execution_count": 14,
   "metadata": {
    "collapsed": true
   },
   "outputs": [],
   "source": [
    "%reset -f"
   ]
  },
  {
   "cell_type": "code",
   "execution_count": 15,
   "metadata": {
    "collapsed": false
   },
   "outputs": [
    {
     "name": "stdout",
     "output_type": "stream",
     "text": [
      "Interactive namespace is empty.\n"
     ]
    }
   ],
   "source": [
    "%whos"
   ]
  },
  {
   "cell_type": "code",
   "execution_count": 16,
   "metadata": {
    "collapsed": false
   },
   "outputs": [
    {
     "data": {
      "text/plain": [
       "'D:\\\\我的文档'"
      ]
     },
     "execution_count": 16,
     "metadata": {},
     "output_type": "execute_result"
    }
   ],
   "source": [
    "%pwd"
   ]
  },
  {
   "cell_type": "code",
   "execution_count": 17,
   "metadata": {
    "collapsed": true
   },
   "outputs": [],
   "source": [
    "%mkdir demo_test"
   ]
  },
  {
   "cell_type": "code",
   "execution_count": 18,
   "metadata": {
    "collapsed": false
   },
   "outputs": [
    {
     "name": "stdout",
     "output_type": "stream",
     "text": [
      "D:\\我的文档\\demo_test\n"
     ]
    }
   ],
   "source": [
    "%cd demo_test"
   ]
  },
  {
   "cell_type": "code",
   "execution_count": 19,
   "metadata": {
    "collapsed": false
   },
   "outputs": [
    {
     "name": "stdout",
     "output_type": "stream",
     "text": [
      "Writing hello_world.py\n"
     ]
    }
   ],
   "source": [
    "%%writefile hello_world.py\n",
    "print(\"hello world\")"
   ]
  },
  {
   "cell_type": "code",
   "execution_count": 20,
   "metadata": {
    "collapsed": false
   },
   "outputs": [
    {
     "name": "stdout",
     "output_type": "stream",
     "text": [
      " 驱动器 D 中的卷是 本地磁盘\n",
      " 卷的序列号是 0009-0895\n",
      "\n",
      " D:\\我的文档\\demo_test 的目录\n",
      "\n",
      "2017/11/11 周六  13:35    <DIR>          .\n",
      "2017/11/11 周六  13:35    <DIR>          ..\n",
      "2017/11/11 周六  13:37                20 hello_world.py\n",
      "               1 个文件             20 字节\n",
      "               2 个目录 82,440,028,160 可用字节\n"
     ]
    }
   ],
   "source": [
    "%ls"
   ]
  },
  {
   "cell_type": "code",
   "execution_count": 21,
   "metadata": {
    "collapsed": false
   },
   "outputs": [
    {
     "name": "stdout",
     "output_type": "stream",
     "text": [
      "hello world\n"
     ]
    }
   ],
   "source": [
    "%run hello_world.py"
   ]
  },
  {
   "cell_type": "code",
   "execution_count": 22,
   "metadata": {
    "collapsed": true
   },
   "outputs": [],
   "source": [
    "import os\n",
    "os.remove(\"hello_world.py\")"
   ]
  },
  {
   "cell_type": "code",
   "execution_count": 23,
   "metadata": {
    "collapsed": false
   },
   "outputs": [
    {
     "name": "stdout",
     "output_type": "stream",
     "text": [
      " 驱动器 D 中的卷是 本地磁盘\n",
      " 卷的序列号是 0009-0895\n",
      "\n",
      " D:\\我的文档\\demo_test 的目录\n",
      "\n",
      "2017/11/11 周六  13:35    <DIR>          .\n",
      "2017/11/11 周六  13:35    <DIR>          ..\n",
      "               0 个文件              0 字节\n",
      "               2 个目录 82,440,093,696 可用字节\n"
     ]
    }
   ],
   "source": [
    "%ls"
   ]
  },
  {
   "cell_type": "code",
   "execution_count": 24,
   "metadata": {
    "collapsed": false
   },
   "outputs": [
    {
     "name": "stdout",
     "output_type": "stream",
     "text": [
      "D:\\我的文档\n"
     ]
    }
   ],
   "source": [
    "%cd .."
   ]
  },
  {
   "cell_type": "code",
   "execution_count": 25,
   "metadata": {
    "collapsed": true
   },
   "outputs": [],
   "source": [
    "%rmdir demo_test"
   ]
  },
  {
   "cell_type": "code",
   "execution_count": 26,
   "metadata": {
    "collapsed": false
   },
   "outputs": [
    {
     "name": "stdout",
     "output_type": "stream",
     "text": [
      "print(\"hello world!\")\n",
      "import this\n",
      "s = \"\"\"Gur Mra bs Clguba, ol Gvz Crgref\n",
      "\n",
      "Ornhgvshy vf orggre guna htyl.\n",
      "Rkcyvpvg vf orggre guna vzcyvpvg.\n",
      "Fvzcyr vf orggre guna pbzcyrk.\n",
      "Pbzcyrk vf orggre guna pbzcyvpngrq.\n",
      "Syng vf orggre guna arfgrq.\n",
      "Fcnefr vf orggre guna qrafr.\n",
      "Ernqnovyvgl pbhagf.\n",
      "Fcrpvny pnfrf nera'g fcrpvny rabhtu gb oernx gur ehyrf.\n",
      "Nygubhtu cenpgvpnyvgl orngf chevgl.\n",
      "Reebef fubhyq arire cnff fvyragyl.\n",
      "Hayrff rkcyvpvgyl fvyraprq.\n",
      "Va gur snpr bs nzovthvgl, ershfr gur grzcgngvba gb thrff.\n",
      "Gurer fubhyq or bar-- naq cersrenoyl bayl bar --boivbhf jnl gb qb vg.\n",
      "Nygubhtu gung jnl znl abg or boivbhf ng svefg hayrff lbh'er Qhgpu.\n",
      "Abj vf orggre guna arire.\n",
      "Nygubhtu arire vf bsgra orggre guna *evtug* abj.\n",
      "Vs gur vzcyrzragngvba vf uneq gb rkcynva, vg'f n onq vqrn.\n",
      "Vs gur vzcyrzragngvba vf rnfl gb rkcynva, vg znl or n tbbq vqrn.\n",
      "Anzrfcnprf ner bar ubaxvat terng vqrn -- yrg'f qb zber bs gubfr!\"\"\"\n",
      "\n",
      "d={}\n",
      "for c in (65,97):\n",
      "    for i in range(26):\n",
      "        d[chr(i+c)]=chr((i+13)%26+c)\n",
      "        \n",
      "print\"\".join([d.get(c,c)for c in s])\n",
      "s = \"\"\"Gur Mra bs Clguba, ol Gvz Crgref\n",
      "\n",
      "Ornhgvshy vf orggre guna htyl.\n",
      "Rkcyvpvg vf orggre guna vzcyvpvg.\n",
      "Fvzcyr vf orggre guna pbzcyrk.\n",
      "Pbzcyrk vf orggre guna pbzcyvpngrq.\n",
      "Syng vf orggre guna arfgrq.\n",
      "Fcnefr vf orggre guna qrafr.\n",
      "Ernqnovyvgl pbhagf.\n",
      "Fcrpvny pnfrf nera'g fcrpvny rabhtu gb oernx gur ehyrf.\n",
      "Nygubhtu cenpgvpnyvgl orngf chevgl.\n",
      "Reebef fubhyq arire cnff fvyragyl.\n",
      "Hayrff rkcyvpvgyl fvyraprq.\n",
      "Va gur snpr bs nzovthvgl, ershfr gur grzcgngvba gb thrff.\n",
      "Gurer fubhyq or bar-- naq cersrenoyl bayl bar --boivbhf jnl gb qb vg.\n",
      "Nygubhtu gung jnl znl abg or boivbhf ng svefg hayrff lbh'er Qhgpu.\n",
      "Abj vf orggre guna arire.\n",
      "Nygubhtu arire vf bsgra orggre guna *evtug* abj.\n",
      "Vs gur vzcyrzragngvba vf uneq gb rkcynva, vg'f n onq vqrn.\n",
      "Vs gur vzcyrzragngvba vf rnfl gb rkcynva, vg znl or n tbbq vqrn.\n",
      "Anzrfcnprf ner bar ubaxvat terng vqrn -- yrg'f qb zber bs gubfr!\"\"\"\n",
      "\n",
      "d={}\n",
      "for c in (65,97):\n",
      "    for i in range(26):\n",
      "        d[chr(i+c)]=chr((i+13)%26+c)\n",
      "        \n",
      "print\"\".join([d.get(c,c) for c in s])\n",
      "s = \"\"\"Gur Mra bs Clguba, ol Gvz Crgref\n",
      "\n",
      "Ornhgvshy vf orggre guna htyl.\n",
      "Rkcyvpvg vf orggre guna vzcyvpvg.\n",
      "Fvzcyr vf orggre guna pbzcyrk.\n",
      "Pbzcyrk vf orggre guna pbzcyvpngrq.\n",
      "Syng vf orggre guna arfgrq.\n",
      "Fcnefr vf orggre guna qrafr.\n",
      "Ernqnovyvgl pbhagf.\n",
      "Fcrpvny pnfrf nera'g fcrpvny rabhtu gb oernx gur ehyrf.\n",
      "Nygubhtu cenpgvpnyvgl orngf chevgl.\n",
      "Reebef fubhyq arire cnff fvyragyl.\n",
      "Hayrff rkcyvpvgyl fvyraprq.\n",
      "Va gur snpr bs nzovthvgl, ershfr gur grzcgngvba gb thrff.\n",
      "Gurer fubhyq or bar-- naq cersrenoyl bayl bar --boivbhf jnl gb qb vg.\n",
      "Nygubhtu gung jnl znl abg or boivbhf ng svefg hayrff lbh'er Qhgpu.\n",
      "Abj vf orggre guna arire.\n",
      "Nygubhtu arire vf bsgra orggre guna *evtug* abj.\n",
      "Vs gur vzcyrzragngvba vf uneq gb rkcynva, vg'f n onq vqrn.\n",
      "Vs gur vzcyrzragngvba vf rnfl gb rkcynva, vg znl or n tbbq vqrn.\n",
      "Anzrfcnprf ner bar ubaxvat terng vqrn -- yrg'f qb zber bs gubfr!\"\"\"\n",
      "\n",
      "d = {}\n",
      "for c in (65, 97):\n",
      "    for i in range(26):\n",
      "        d[chr(i+c)]= chr((i+13) % 26 + c)\n",
      "        \n",
      "print\"\".join([d.get(c,c) for c in s])\n",
      "s = \"\"\"Gur Mra bs Clguba, ol Gvz Crgref\n",
      "\n",
      "Ornhgvshy vf orggre guna htyl.\n",
      "Rkcyvpvg vf orggre guna vzcyvpvg.\n",
      "Fvzcyr vf orggre guna pbzcyrk.\n",
      "Pbzcyrk vf orggre guna pbzcyvpngrq.\n",
      "Syng vf orggre guna arfgrq.\n",
      "Fcnefr vf orggre guna qrafr.\n",
      "Ernqnovyvgl pbhagf.\n",
      "Fcrpvny pnfrf nera'g fcrpvny rabhtu gb oernx gur ehyrf.\n",
      "Nygubhtu cenpgvpnyvgl orngf chevgl.\n",
      "Reebef fubhyq arire cnff fvyragyl.\n",
      "Hayrff rkcyvpvgyl fvyraprq.\n",
      "Va gur snpr bs nzovthvgl, ershfr gur grzcgngvba gb thrff.\n",
      "Gurer fubhyq or bar-- naq cersrenoyl bayl bar --boivbhf jnl gb qb vg.\n",
      "Nygubhtu gung jnl znl abg or boivbhf ng svefg hayrff lbh'er Qhgpu.\n",
      "Abj vf orggre guna arire.\n",
      "Nygubhtu arire vf bsgra orggre guna *evtug* abj.\n",
      "Vs gur vzcyrzragngvba vf uneq gb rkcynva, vg'f n onq vqrn.\n",
      "Vs gur vzcyrzragngvba vf rnfl gb rkcynva, vg znl or n tbbq vqrn.\n",
      "Anzrfcnprf ner bar ubaxvat terng vqrn -- yrg'f qb zber bs gubfr!\"\"\"\n",
      "\n",
      "d = {}\n",
      "for c in (65, 97):\n",
      "    for i in range(26):\n",
      "        d[chr(i+c)]= chr((i+13) % 26 + c)\n",
      "        \n",
      "print(\"\".join([d.get(c,c) for c in s]))\n",
      "print(\"hello,world\")\n",
      "a=1\n",
      "a\n",
      "b=[1,2,3]\n",
      "b=[1,2,3]\n",
      "%lsmagic\n",
      "%whos\n",
      "%reset -f\n",
      "%whos\n",
      "%pwd\n",
      "%mkdir demo_test\n",
      "%cd demo_test\n",
      "%%writefile hello_world.py\n",
      "print(\"hello world\")\n",
      "%ls\n",
      "%run hello_world.py\n",
      "import os\n",
      "os.remove(\"hello_world.py\")\n",
      "%ls\n",
      "%cd ..\n",
      "%rmdir demo_test\n",
      "%hist\n"
     ]
    }
   ],
   "source": [
    "%hist"
   ]
  },
  {
   "cell_type": "code",
   "execution_count": 27,
   "metadata": {
    "collapsed": true
   },
   "outputs": [],
   "source": [
    "sum?"
   ]
  },
  {
   "cell_type": "code",
   "execution_count": 28,
   "metadata": {
    "collapsed": false
   },
   "outputs": [
    {
     "name": "stdout",
     "output_type": "stream",
     "text": [
      "Using matplotlib backend: Qt5Agg\n",
      "Populating the interactive namespace from numpy and matplotlib\n"
     ]
    }
   ],
   "source": [
    "#导入numpy和matplotlib两个包\n",
    "%pylab\n",
    "#查看其中sort函数的帮助\n",
    "sort??"
   ]
  },
  {
   "cell_type": "code",
   "execution_count": 29,
   "metadata": {
    "collapsed": false
   },
   "outputs": [
    {
     "data": {
      "text/plain": [
       "12"
      ]
     },
     "execution_count": 29,
     "metadata": {},
     "output_type": "execute_result"
    }
   ],
   "source": [
    "a=12\n",
    "a"
   ]
  },
  {
   "cell_type": "code",
   "execution_count": 30,
   "metadata": {
    "collapsed": false
   },
   "outputs": [
    {
     "data": {
      "text/plain": [
       "25"
      ]
     },
     "execution_count": 30,
     "metadata": {},
     "output_type": "execute_result"
    }
   ],
   "source": [
    "_ + 13"
   ]
  },
  {
   "cell_type": "code",
   "execution_count": 31,
   "metadata": {
    "collapsed": false
   },
   "outputs": [
    {
     "name": "stdout",
     "output_type": "stream",
     "text": [
      "\n",
      "正在 Ping baidu.com [220.181.57.217] 具有 32 字节的数据:\n",
      "来自 220.181.57.217 的回复: 字节=32 时间=55ms TTL=55\n",
      "来自 220.181.57.217 的回复: 字节=32 时间=66ms TTL=55\n",
      "来自 220.181.57.217 的回复: 字节=32 时间=52ms TTL=55\n",
      "来自 220.181.57.217 的回复: 字节=32 时间=53ms TTL=55\n",
      "\n",
      "220.181.57.217 的 Ping 统计信息:\n",
      "    数据包: 已发送 = 4，已接收 = 4，丢失 = 0 (0% 丢失)，\n",
      "往返行程的估计时间(以毫秒为单位):\n",
      "    最短 = 52ms，最长 = 66ms，平均 = 56ms\n"
     ]
    }
   ],
   "source": [
    "!ping baidu.com #"
   ]
  },
  {
   "cell_type": "code",
   "execution_count": 32,
   "metadata": {
    "collapsed": false
   },
   "outputs": [
    {
     "ename": "TypeError",
     "evalue": "unsupported operand type(s) for +: 'int' and 'str'",
     "output_type": "error",
     "traceback": [
      "\u001b[0;31m---------------------------------------------------------------------------\u001b[0m",
      "\u001b[0;31mTypeError\u001b[0m                                 Traceback (most recent call last)",
      "\u001b[0;32m<ipython-input-32-d37bedb9732a>\u001b[0m in \u001b[0;36m<module>\u001b[0;34m()\u001b[0m\n\u001b[0;32m----> 1\u001b[0;31m \u001b[1;36m1\u001b[0m \u001b[1;33m+\u001b[0m \u001b[1;34m\"hello\"\u001b[0m\u001b[1;33m\u001b[0m\u001b[0m\n\u001b[0m",
      "\u001b[0;31mTypeError\u001b[0m: unsupported operand type(s) for +: 'int' and 'str'"
     ]
    }
   ],
   "source": [
    "1 + \"hello\""
   ]
  },
  {
   "cell_type": "code",
   "execution_count": 33,
   "metadata": {
    "collapsed": false
   },
   "outputs": [
    {
     "name": "stdout",
     "output_type": "stream",
     "text": [
      "# packages in environment at d:\\ProgramData\\Anaconda3:\n",
      "#\n",
      "_license                  1.1                      py36_1  \n",
      "alabaster                 0.7.9                    py36_0  \n",
      "anaconda                  4.3.0               np111py36_0  \n",
      "anaconda-client           1.6.0                    py36_0  \n",
      "anaconda-navigator        1.4.3                    py36_0  \n",
      "astroid                   1.4.9                    py36_0  \n",
      "astropy                   1.3                 np111py36_0  \n",
      "attrs                     15.2.0                   py36_0  \n",
      "automat                   0.5.0                    py36_0  \n",
      "babel                     2.3.4                    py36_0  \n",
      "backports                 1.0                      py36_0  \n",
      "beautifulsoup4            4.5.3                    py36_0  \n",
      "bitarray                  0.8.1                    py36_1  \n",
      "blaze                     0.10.1                   py36_0  \n",
      "bokeh                     0.12.4                   py36_0  \n",
      "boto                      2.45.0                   py36_0  \n",
      "bottleneck                1.2.0               np111py36_0  \n",
      "bzip2                     1.0.6                    vc14_3  [vc14]\n",
      "cffi                      1.9.1                    py36_0  \n",
      "chardet                   2.3.0                    py36_0  \n",
      "chest                     0.2.3                    py36_0  \n",
      "click                     6.7                      py36_0  \n",
      "cloudpickle               0.2.2                    py36_0  \n",
      "clyent                    1.2.2                    py36_0  \n",
      "colorama                  0.3.7                    py36_0  \n",
      "comtypes                  1.1.2                    py36_0  \n",
      "conda                     4.3.17                   py36_0  \n",
      "conda-env                 2.6.0                         0  \n",
      "configobj                 5.0.6                    py36_0  \n",
      "console_shortcut          0.1.1                    py36_1  \n",
      "constantly                15.1.0                   py36_0  \n",
      "contextlib2               0.5.4                    py36_0  \n",
      "cryptography              1.7.1                    py36_0  \n",
      "cssselect                 1.0.1                    py36_0  \n",
      "curl                      7.52.1                   vc14_0  [vc14]\n",
      "cycler                    0.10.0                   py36_0  \n",
      "cython                    0.25.2                   py36_0  \n",
      "cytoolz                   0.8.2                    py36_0  \n",
      "dask                      0.13.0                   py36_0  \n",
      "datashape                 0.5.4                    py36_0  \n",
      "decorator                 4.0.11                   py36_0  \n",
      "dill                      0.2.5                    py36_0  \n",
      "docutils                  0.13.1                   py36_0  \n",
      "entrypoints               0.2.2                    py36_0  \n",
      "et_xmlfile                1.0.1                    py36_0  \n",
      "fastcache                 1.0.2                    py36_1  \n",
      "flask                     0.12                     py36_0  \n",
      "flask-cors                3.0.2                    py36_0  \n",
      "freetype                  2.5.5                    vc14_2  [vc14]\n",
      "future                    0.16.0                   py36_1  \n",
      "get_terminal_size         1.0.0                    py36_0  \n",
      "gevent                    1.2.1                    py36_0  \n",
      "graphviz                  2.38.0                        4  \n",
      "greenlet                  0.4.11                   py36_0  \n",
      "h5py                      2.6.0               np111py36_2  \n",
      "hdf5                      1.8.15.1                 vc14_4  [vc14]\n",
      "heapdict                  1.0.0                    py36_1  \n",
      "icu                       57.1                     vc14_0  [vc14]\n",
      "idna                      2.2                      py36_0  \n",
      "imagesize                 0.7.1                    py36_0  \n",
      "incremental               16.10.1                  py36_0  \n",
      "ipykernel                 4.5.2                    py36_0  \n",
      "ipython                   5.1.0                    py36_0  \n",
      "ipython_genutils          0.1.0                    py36_0  \n",
      "ipywidgets                5.2.2                    py36_1  \n",
      "isort                     4.2.5                    py36_0  \n",
      "itsdangerous              0.24                     py36_0  \n",
      "jdcal                     1.3                      py36_0  \n",
      "jedi                      0.9.0                    py36_1  \n",
      "jinja2                    2.9.4                    py36_0  \n",
      "jpeg                      9b                       vc14_0  [vc14]\n",
      "jsonschema                2.5.1                    py36_0  \n",
      "jupyter                   1.0.0                    py36_3  \n",
      "jupyter_client            4.4.0                    py36_0  \n",
      "jupyter_console           5.0.0                    py36_0  \n",
      "jupyter_core              4.2.1                    py36_0  \n",
      "Keras                     2.0.2                     <pip>\n",
      "lazy-object-proxy         1.2.2                    py36_0  \n",
      "libgpuarray               0.6.2                    vc14_0  [vc14]\n",
      "libpng                    1.6.27                   vc14_0  [vc14]\n",
      "libpython                 2.0                      py36_0  \n",
      "libtiff                   4.0.6                    vc14_3  [vc14]\n",
      "llvmlite                  0.15.0                   py36_0  \n",
      "locket                    0.2.0                    py36_1  \n",
      "lxml                      3.7.2                    py36_0  \n",
      "m2w64-binutils            2.25.1                        5  \n",
      "m2w64-bzip2               1.0.6                         6  \n",
      "m2w64-crt-git             5.0.0.4636.2595836               2  \n",
      "m2w64-gcc                 5.3.0                         6  \n",
      "m2w64-gcc-ada             5.3.0                         6  \n",
      "m2w64-gcc-fortran         5.3.0                         6  \n",
      "m2w64-gcc-libgfortran     5.3.0                         6  \n",
      "m2w64-gcc-libs            5.3.0                         7  \n",
      "m2w64-gcc-libs-core       5.3.0                         7  \n",
      "m2w64-gcc-objc            5.3.0                         6  \n",
      "m2w64-gmp                 6.1.0                         2  \n",
      "m2w64-headers-git         5.0.0.4636.c0ad18a               2  \n",
      "m2w64-isl                 0.16.1                        2  \n",
      "m2w64-libiconv            1.14                          6  \n",
      "m2w64-libmangle-git       5.0.0.4509.2e5a9a2               2  \n",
      "m2w64-libwinpthread-git   5.0.0.4634.697f757               2  \n",
      "m2w64-make                4.1.2351.a80a8b8               2  \n",
      "m2w64-mpc                 1.0.3                         3  \n",
      "m2w64-mpfr                3.1.4                         4  \n",
      "m2w64-pkg-config          0.29.1                        2  \n",
      "m2w64-toolchain           5.3.0                         7  \n",
      "m2w64-tools-git           5.0.0.4592.90b8472               2  \n",
      "m2w64-windows-default-manifest 6.4                           3  \n",
      "m2w64-winpthreads-git     5.0.0.4634.697f757               2  \n",
      "m2w64-zlib                1.2.8                        10  \n",
      "mako                      1.0.6                    py36_0  \n",
      "markupsafe                0.23                     py36_2  \n",
      "matplotlib                2.0.0               np111py36_0  \n",
      "menuinst                  1.4.4                    py36_0  \n",
      "mistune                   0.7.3                    py36_0  \n",
      "mkl                       2017.0.1                      0  \n",
      "mkl-service               1.1.2                    py36_3  \n",
      "mpmath                    0.19                     py36_1  \n",
      "msys2-conda-epoch         20160418                      1  \n",
      "multipledispatch          0.4.9                    py36_0  \n",
      "nbconvert                 4.2.0                    py36_0  \n",
      "nbformat                  4.2.0                    py36_0  \n",
      "networkx                  1.11                     py36_0  \n",
      "nltk                      3.2.2                    py36_0  \n",
      "nose                      1.3.7                    py36_1  \n",
      "notebook                  4.3.1                    py36_1  \n",
      "numba                     0.30.1              np111py36_0  \n",
      "numexpr                   2.6.1               np111py36_2  \n",
      "numpy                     1.11.3                   py36_0  \n",
      "numpydoc                  0.6.0                    py36_0  \n",
      "odo                       0.5.0                    py36_1  \n",
      "openpyxl                  2.4.1                    py36_0  \n",
      "openssl                   1.0.2k                   vc14_0  [vc14]\n",
      "pandas                    0.19.2              np111py36_1  \n",
      "parsel                    1.1.0                    py36_0  \n",
      "partd                     0.3.7                    py36_0  \n",
      "path.py                   10.0                     py36_0  \n",
      "pathlib2                  2.2.0                    py36_0  \n",
      "patsy                     0.4.1                    py36_0  \n",
      "pep8                      1.7.0                    py36_0  \n",
      "pickleshare               0.7.4                    py36_0  \n",
      "pillow                    4.0.0                    py36_0  \n",
      "pip                       9.0.1                    py36_1  \n",
      "ply                       3.9                      py36_0  \n",
      "prompt_toolkit            1.0.9                    py36_0  \n",
      "psutil                    5.0.1                    py36_0  \n",
      "py                        1.4.32                   py36_0  \n",
      "pyasn1                    0.1.9                    py36_0  \n",
      "pyasn1-modules            0.0.8                    py36_0  \n",
      "pycosat                   0.6.1                    py36_1  \n",
      "pycparser                 2.17                     py36_0  \n",
      "pycrypto                  2.6.1                    py36_5  \n",
      "pycurl                    7.43.0                   py36_2  \n",
      "pydispatcher              2.0.5                    py36_0  \n",
      "pyflakes                  1.5.0                    py36_0  \n",
      "pygments                  2.1.3                    py36_0  \n",
      "pygpu                     0.6.2                    py36_0  \n",
      "pylint                    1.6.4                    py36_1  \n",
      "pymongo                   3.3.0                    py36_0  \n",
      "pyopenssl                 16.2.0                   py36_0  \n",
      "pyparsing                 2.1.4                    py36_0  \n",
      "pyqt                      5.6.0                    py36_2  \n",
      "pytables                  3.2.2               np111py36_4  \n",
      "pytest                    3.0.5                    py36_0  \n",
      "python                    3.6.0                         0  \n",
      "python-dateutil           2.6.0                    py36_0  \n",
      "pytz                      2016.10                  py36_0  \n",
      "pywin32                   220                      py36_2  \n",
      "pyyaml                    3.12                     py36_0  \n",
      "pyzmq                     16.0.2                   py36_0  \n",
      "qt                        5.6.2                    vc14_3  [vc14]\n",
      "qtawesome                 0.4.3                    py36_0  \n",
      "qtconsole                 4.2.1                    py36_2  \n",
      "qtpy                      1.2.1                    py36_0  \n",
      "queuelib                  1.4.2                    py36_0  \n",
      "requests                  2.12.4                   py36_0  \n",
      "rope                      0.9.4                    py36_1  \n",
      "ruamel_yaml               0.11.14                  py36_1  \n",
      "scikit-image              0.12.3              np111py36_1  \n",
      "scikit-learn              0.18.1              np111py36_1  \n",
      "scipy                     0.18.1              np111py36_1  \n",
      "scrapy                    1.3.3                    py36_0  \n",
      "seaborn                   0.7.1                    py36_0  \n",
      "service_identity          16.0.0                   py36_0  \n",
      "setuptools                27.2.0                   py36_1  \n",
      "simplegeneric             0.8.1                    py36_1  \n",
      "singledispatch            3.4.0.3                  py36_0  \n",
      "sip                       4.18                     py36_0  \n",
      "six                       1.10.0                   py36_0  \n",
      "snowballstemmer           1.2.1                    py36_0  \n",
      "sockjs-tornado            1.0.3                    py36_0  \n",
      "sphinx                    1.5.1                    py36_0  \n",
      "spyder                    3.1.2                    py36_0  \n",
      "sqlalchemy                1.1.5                    py36_0  \n",
      "statsmodels               0.6.1               np111py36_1  \n",
      "sympy                     1.0                      py36_0  \n",
      "theano                    0.9.0                    py36_0  \n",
      "tk                        8.5.18                   vc14_0  [vc14]\n",
      "toolz                     0.8.2                    py36_0  \n",
      "tornado                   4.4.2                    py36_0  \n",
      "traitlets                 4.3.1                    py36_0  \n",
      "twisted                   17.1.0                   py36_0  \n",
      "unicodecsv                0.14.1                   py36_0  \n",
      "vboxapi                   1.0                       <pip>\n",
      "vs2015_runtime            14.0.25123                    0  \n",
      "w3lib                     1.17.0                   py36_0  \n",
      "wcwidth                   0.1.7                    py36_0  \n",
      "werkzeug                  0.11.15                  py36_0  \n",
      "wheel                     0.29.0                   py36_0  \n",
      "widgetsnbextension        1.2.6                    py36_0  \n",
      "win_unicode_console       0.5                      py36_0  \n",
      "wrapt                     1.10.8                   py36_0  \n",
      "xlrd                      1.0.0                    py36_0  \n",
      "xlsxwriter                0.9.6                    py36_0  \n",
      "xlwings                   0.10.2                   py36_0  \n",
      "xlwt                      1.2.0                    py36_0  \n",
      "yaml                      0.1.6                         0  \n",
      "zlib                      1.2.8                    vc14_3  [vc14]\n",
      "zope                      1.0                      py36_0  \n",
      "zope.interface            4.3.3                    py36_0  \n"
     ]
    }
   ],
   "source": [
    "!conda list"
   ]
  },
  {
   "cell_type": "code",
   "execution_count": 34,
   "metadata": {
    "collapsed": false
   },
   "outputs": [
    {
     "name": "stdout",
     "output_type": "stream",
     "text": [
      "    Current conda install:\n",
      "\n",
      "                   platform : win-64\n",
      "              conda version : 4.3.17\n",
      "           conda is private : False\n",
      "          conda-env version : 4.3.17\n",
      "        conda-build version : not installed\n",
      "             python version : 3.6.0.final.0\n",
      "           requests version : 2.12.4\n",
      "           root environment : d:\\ProgramData\\Anaconda3  (writable)\n",
      "        default environment : d:\\ProgramData\\Anaconda3\n",
      "           envs directories : d:\\ProgramData\\Anaconda3\\envs\n",
      "                          C:\\Users\\Administrator\\AppData\\Local\\conda\\conda\\envs\n",
      "                          C:\\Users\\Administrator\\.conda\\envs\n",
      "              package cache : d:\\ProgramData\\Anaconda3\\pkgs\n",
      "                          C:\\Users\\Administrator\\AppData\\Local\\conda\\conda\\pkgs\n",
      "               channel URLs : https://conda.anaconda.org/anaconda-fusion/win-64\n",
      "                          https://conda.anaconda.org/anaconda-fusion/noarch\n",
      "                          https://repo.continuum.io/pkgs/free/win-64\n",
      "                          https://repo.continuum.io/pkgs/free/noarch\n",
      "                          https://repo.continuum.io/pkgs/r/win-64\n",
      "                          https://repo.continuum.io/pkgs/r/noarch\n",
      "                          https://repo.continuum.io/pkgs/pro/win-64\n",
      "                          https://repo.continuum.io/pkgs/pro/noarch\n",
      "                          https://repo.continuum.io/pkgs/msys2/win-64\n",
      "                          https://repo.continuum.io/pkgs/msys2/noarch\n",
      "                config file : C:\\Users\\Administrator\\.condarc\n",
      "               offline mode : False\n",
      "                 user-agent : conda/4.3.17 requests/2.12.4 CPython/3.6.0 Windows/7 Windows/6.1.7601    \n",
      "\n"
     ]
    }
   ],
   "source": [
    "!conda info"
   ]
  }
 ],
 "metadata": {
  "kernelspec": {
   "display_name": "Python 3",
   "language": "python",
   "name": "python3"
  },
  "language_info": {
   "codemirror_mode": {
    "name": "ipython",
    "version": 3
   },
   "file_extension": ".py",
   "mimetype": "text/x-python",
   "name": "python",
   "nbconvert_exporter": "python",
   "pygments_lexer": "ipython3",
   "version": "3.6.0"
  }
 },
 "nbformat": 4,
 "nbformat_minor": 2
}
