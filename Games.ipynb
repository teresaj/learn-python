{
 "cells": [
  {
   "cell_type": "markdown",
   "metadata": {},
   "source": [
    "#### Warming up"
   ]
  },
  {
   "cell_type": "code",
   "execution_count": 1,
   "metadata": {
    "collapsed": false
   },
   "outputs": [
    {
     "data": {
      "text/plain": [
       "274877906944"
      ]
     },
     "execution_count": 1,
     "metadata": {},
     "output_type": "execute_result"
    }
   ],
   "source": [
    "2 ** 38"
   ]
  },
  {
   "cell_type": "markdown",
   "metadata": {},
   "source": [
    "#### 1"
   ]
  },
  {
   "cell_type": "markdown",
   "metadata": {},
   "source": [
    "##### 密码破译，将字符串中的字母按顺序向后推两个"
   ]
  },
  {
   "cell_type": "markdown",
   "metadata": {},
   "source": [
    "\n",
    "##### 将ASCII字符转换为对应的数值即‘a’-->65，使用ord函数,ord('a')\n",
    "\n",
    "##### 使用chr函数，将数值转换为对应的ASCII字符，chr(65)"
   ]
  },
  {
   "cell_type": "code",
   "execution_count": 20,
   "metadata": {
    "collapsed": false
   },
   "outputs": [
    {
     "data": {
      "text/plain": [
       "'g'"
      ]
     },
     "execution_count": 20,
     "metadata": {},
     "output_type": "execute_result"
    }
   ],
   "source": [
    "L =list(\"g fmnc wms bgblr rpylqjyrc gr zw fylb.rfyrq ufyr amknsrcpq ypc dmp. bmgle gr gl zw fylb gq glcddgagclr ylb rfyr'q ufw rfgq rcvr gq qm jmle.sqgle qrpgle.kyicrpylq() gq pcamkkclbcb. lmu ynnjw ml rfc spj.\")\n",
    "len(L)\n",
    "type(L)\n",
    "L[0]"
   ]
  },
  {
   "cell_type": "code",
   "execution_count": 26,
   "metadata": {
    "collapsed": false
   },
   "outputs": [
    {
     "name": "stdout",
     "output_type": "stream",
     "text": [
      "i\n",
      "\"\n",
      "h\n",
      "o\n",
      "p\n",
      "e\n",
      "\"\n",
      "y\n",
      "o\n",
      "u\n",
      "\"\n",
      "d\n",
      "i\n",
      "d\n",
      "n\n",
      "t\n",
      "\"\n",
      "t\n",
      "r\n",
      "{\n",
      "n\n",
      "s\n",
      "l\n",
      "{\n",
      "t\n",
      "e\n",
      "\"\n",
      "i\n",
      "t\n",
      "\"\n",
      "|\n",
      "y\n",
      "\"\n",
      "h\n",
      "{\n",
      "n\n",
      "d\n",
      "0\n",
      "t\n",
      "h\n",
      "{\n",
      "t\n",
      "s\n",
      "\"\n",
      "w\n",
      "h\n",
      "{\n",
      "t\n",
      "\"\n",
      "c\n",
      "o\n",
      "m\n",
      "p\n",
      "u\n",
      "t\n",
      "e\n",
      "r\n",
      "s\n",
      "\"\n",
      "{\n",
      "r\n",
      "e\n",
      "\"\n",
      "f\n",
      "o\n",
      "r\n",
      "0\n",
      "\"\n",
      "d\n",
      "o\n",
      "i\n",
      "n\n",
      "g\n",
      "\"\n",
      "i\n",
      "t\n",
      "\"\n",
      "i\n",
      "n\n",
      "\"\n",
      "|\n",
      "y\n",
      "\"\n",
      "h\n",
      "{\n",
      "n\n",
      "d\n",
      "\"\n",
      "i\n",
      "s\n",
      "\"\n",
      "i\n",
      "n\n",
      "e\n",
      "f\n",
      "f\n",
      "i\n",
      "c\n",
      "i\n",
      "e\n",
      "n\n",
      "t\n",
      "\"\n",
      "{\n",
      "n\n",
      "d\n",
      "\"\n",
      "t\n",
      "h\n",
      "{\n",
      "t\n",
      ")\n",
      "s\n",
      "\"\n",
      "w\n",
      "h\n",
      "y\n",
      "\"\n",
      "t\n",
      "h\n",
      "i\n",
      "s\n",
      "\"\n",
      "t\n",
      "e\n",
      "x\n",
      "t\n",
      "\"\n",
      "i\n",
      "s\n",
      "\"\n",
      "s\n",
      "o\n",
      "\"\n",
      "l\n",
      "o\n",
      "n\n",
      "g\n",
      "0\n",
      "u\n",
      "s\n",
      "i\n",
      "n\n",
      "g\n",
      "\"\n",
      "s\n",
      "t\n",
      "r\n",
      "i\n",
      "n\n",
      "g\n",
      "0\n",
      "m\n",
      "{\n",
      "k\n",
      "e\n",
      "t\n",
      "r\n",
      "{\n",
      "n\n",
      "s\n",
      "*\n",
      "+\n",
      "\"\n",
      "i\n",
      "s\n",
      "\"\n",
      "r\n",
      "e\n",
      "c\n",
      "o\n",
      "m\n",
      "m\n",
      "e\n",
      "n\n",
      "d\n",
      "e\n",
      "d\n",
      "0\n",
      "\"\n",
      "n\n",
      "o\n",
      "w\n",
      "\"\n",
      "{\n",
      "p\n",
      "p\n",
      "l\n",
      "y\n",
      "\"\n",
      "o\n",
      "n\n",
      "\"\n",
      "t\n",
      "h\n",
      "e\n",
      "\"\n",
      "u\n",
      "r\n",
      "l\n",
      "0\n"
     ]
    }
   ],
   "source": [
    "i = 0\n",
    "for i in range(0,len(L)):\n",
    "    print(chr(ord(L[i])+2))\n"
   ]
  },
  {
   "cell_type": "code",
   "execution_count": null,
   "metadata": {
    "collapsed": true
   },
   "outputs": [],
   "source": []
  },
  {
   "cell_type": "code",
   "execution_count": null,
   "metadata": {
    "collapsed": true
   },
   "outputs": [],
   "source": []
  },
  {
   "cell_type": "code",
   "execution_count": null,
   "metadata": {
    "collapsed": true
   },
   "outputs": [],
   "source": []
  },
  {
   "cell_type": "code",
   "execution_count": null,
   "metadata": {
    "collapsed": true
   },
   "outputs": [],
   "source": []
  },
  {
   "cell_type": "code",
   "execution_count": null,
   "metadata": {
    "collapsed": true
   },
   "outputs": [],
   "source": []
  },
  {
   "cell_type": "code",
   "execution_count": null,
   "metadata": {
    "collapsed": true
   },
   "outputs": [],
   "source": []
  },
  {
   "cell_type": "code",
   "execution_count": null,
   "metadata": {
    "collapsed": true
   },
   "outputs": [],
   "source": []
  },
  {
   "cell_type": "code",
   "execution_count": null,
   "metadata": {
    "collapsed": true
   },
   "outputs": [],
   "source": []
  },
  {
   "cell_type": "code",
   "execution_count": null,
   "metadata": {
    "collapsed": true
   },
   "outputs": [],
   "source": []
  },
  {
   "cell_type": "code",
   "execution_count": null,
   "metadata": {
    "collapsed": true
   },
   "outputs": [],
   "source": []
  },
  {
   "cell_type": "code",
   "execution_count": null,
   "metadata": {
    "collapsed": true
   },
   "outputs": [],
   "source": []
  },
  {
   "cell_type": "code",
   "execution_count": null,
   "metadata": {
    "collapsed": true
   },
   "outputs": [],
   "source": []
  }
 ],
 "metadata": {
  "kernelspec": {
   "display_name": "Python 3",
   "language": "python",
   "name": "python3"
  },
  "language_info": {
   "codemirror_mode": {
    "name": "ipython",
    "version": 3
   },
   "file_extension": ".py",
   "mimetype": "text/x-python",
   "name": "python",
   "nbconvert_exporter": "python",
   "pygments_lexer": "ipython3",
   "version": "3.6.0"
  }
 },
 "nbformat": 4,
 "nbformat_minor": 2
}
